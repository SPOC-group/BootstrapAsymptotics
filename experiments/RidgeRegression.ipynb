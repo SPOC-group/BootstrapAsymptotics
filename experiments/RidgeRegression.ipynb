{
 "cells": [
  {
   "cell_type": "markdown",
   "metadata": {},
   "source": [
    "# Notebook to compute the state evolution for ridge regression and different resampling\n",
    "\n",
    "**Pour ridge regression, le lambda optimal est constant a $\\sigma^2$**"
   ]
  },
  {
   "cell_type": "code",
   "execution_count": 1,
   "metadata": {},
   "outputs": [],
   "source": [
    "using BootstrapAsymptotics\n",
    "using Plots\n",
    "using JSON\n",
    "using Revise"
   ]
  },
  {
   "cell_type": "code",
   "execution_count": 2,
   "metadata": {},
   "outputs": [
    {
     "data": {
      "text/plain": [
       "10000"
      ]
     },
     "metadata": {},
     "output_type": "display_data"
    }
   ],
   "source": [
    "alpha_range    = exp10.(range(-1.0, stop=3.0, length=50))\n",
    "lambda         = 0.01\n",
    "noise_variance = 1.0\n",
    "max_weight     = 20\n",
    "rtol           = 1e-20\n",
    "max_iteration  = 10000"
   ]
  },
  {
   "cell_type": "code",
   "execution_count": null,
   "metadata": {},
   "outputs": [],
   "source": [
    "bootstrap_bootstrap_overlaps = []\n",
    "bootstrap_bootstrap_hat_overlaps = []\n",
    "\n",
    "for alpha in alpha_range\n",
    "    problem = Ridge(α = alpha, Δ = noise_variance, ρ = 1.0, λ = lambda)\n",
    "    result = BootstrapAsymptotics.state_evolution(problem, PairBootstrap(p_max = max_weight), PairBootstrap(p_max = max_weight), rtol=rtol, max_iteration=max_iteration)\n",
    "    push!(bootstrap_bootstrap_overlaps, result[1])\n",
    "    push!(bootstrap_bootstrap_hat_overlaps, result[2])\n",
    "end"
   ]
  },
  {
   "cell_type": "code",
   "execution_count": 7,
   "metadata": {},
   "outputs": [
    {
     "data": {
      "text/plain": [
       "8632"
      ]
     },
     "metadata": {},
     "output_type": "display_data"
    }
   ],
   "source": [
    "bootstrap_bootstrap_filename::String = \"data/ridge/ridge_bootstrap_bootstrap_overlaps_lambda=$lambda.json\"\n",
    "\n",
    "dict_to_save::Dict = Dict(\"alpha\" => alpha_range,\n",
    "                          \"m\"   => [o.m[1] for o in bootstrap_bootstrap_overlaps],\n",
    "                          \"q_diag\"   => [o.Q[1, 1] for o in bootstrap_bootstrap_overlaps],\n",
    "                          \"q_off_diag\"   => [o.Q[1, 2] for o in bootstrap_bootstrap_overlaps],\n",
    "                          \"v\"   => [o.V[1] for o in bootstrap_bootstrap_overlaps],\n",
    "                          \"mhat\"=> [o.m[1] for o in bootstrap_bootstrap_hat_overlaps],\n",
    "                          \"qhat_diag\"=> [o.Q[1, 1] for o in bootstrap_bootstrap_hat_overlaps],\n",
    "                          \"qhat_off_diag\"=> [o.Q[1, 2] for o in bootstrap_bootstrap_hat_overlaps],\n",
    "                          \"vhat\"=> [o.V[1] for o in bootstrap_bootstrap_hat_overlaps],\n",
    "                          )\n",
    "open(bootstrap_bootstrap_filename, \"w\") do f\n",
    "    write(f, JSON.json(dict_to_save))\n",
    "end\n",
    "## \n"
   ]
  },
  {
   "cell_type": "code",
   "execution_count": 8,
   "metadata": {},
   "outputs": [],
   "source": [
    "bootstrap_full_overlaps = []\n",
    "bootstrap_full_hat_overlaps = []\n",
    "\n",
    "for alpha in alpha_range\n",
    "    # result = RidgeBootstrapStateEvolution.state_evolution_bootstrap_bootstrap_full(alpha, lambda, noise_variance, max_weight=30, relative_tolerance=1e-20, max_iteration=10000)\n",
    "    problem = Ridge(α = alpha, Δ = noise_variance, ρ = 1.0, λ = lambda)\n",
    "    result = BootstrapAsymptotics.state_evolution(problem, PairBootstrap(p_max = max_weight), FullResampling(), rtol=rtol, max_iteration=max_iteration)\n",
    "    push!(bootstrap_full_overlaps, result[1])\n",
    "    push!(bootstrap_full_hat_overlaps, result[2])\n",
    "end"
   ]
  },
  {
   "cell_type": "code",
   "execution_count": 9,
   "metadata": {},
   "outputs": [
    {
     "data": {
      "text/plain": [
       "2843"
      ]
     },
     "metadata": {},
     "output_type": "display_data"
    }
   ],
   "source": [
    "bootstrap_full_filename::String = \"data/ridge/ridge_bootstrap_full_overlaps_lambda=$lambda.json\"\n",
    "\n",
    "dict_to_save::Dict = Dict(\"alpha\" => alpha_range,\n",
    "                          \"q_off_diag\" => [o.Q[1, 2] for o in bootstrap_full_overlaps],\n",
    "                          \n",
    "                          \"qhat_off_diag\" => [o.Q[1, 2] for o in bootstrap_full_hat_overlaps],\n",
    "                          )\n",
    "\n",
    "open(bootstrap_full_filename, \"w\") do f\n",
    "    write(f, JSON.json(dict_to_save))\n",
    "end"
   ]
  },
  {
   "cell_type": "markdown",
   "metadata": {},
   "source": [
    "---\n",
    "\n",
    "# Do full-full correlation "
   ]
  },
  {
   "cell_type": "code",
   "execution_count": 10,
   "metadata": {},
   "outputs": [],
   "source": [
    "full_full_overlaps = []\n",
    "full_full_hat_overlaps = []\n",
    "\n",
    "for alpha in alpha_range\n",
    "    # result = RidgeBootstrapStateEvolution.state_evolution_bootstrap_bootstrap_full(alpha, lambda, noise_variance, max_weight=30, relative_tolerance=1e-20, max_iteration=10000)\n",
    "    problem = Ridge(α = alpha, Δ = noise_variance, ρ = 1.0, λ = lambda)\n",
    "    result = BootstrapAsymptotics.state_evolution(problem, FullResampling(), FullResampling(), rtol=rtol, max_iteration=max_iteration)\n",
    "    push!(full_full_overlaps, result[1])\n",
    "    push!(full_full_hat_overlaps, result[2])\n",
    "end"
   ]
  },
  {
   "cell_type": "code",
   "execution_count": 11,
   "metadata": {},
   "outputs": [
    {
     "data": {
      "text/plain": [
       "7898"
      ]
     },
     "metadata": {},
     "output_type": "display_data"
    }
   ],
   "source": [
    "filename::String = \"data/ridge/ridge_full_full_overlaps_lambda=$lambda.json\"\n",
    "\n",
    "dict_to_save::Dict = Dict(\"alpha\" => alpha_range,\n",
    "                          \"m\"   => [o.m[1] for o in full_full_overlaps],\n",
    "                          \"q_diag\"   => [o.Q[1, 1] for o in full_full_overlaps],\n",
    "                          \"q_off_diag\"   => [o.Q[1, 2] for o in full_full_overlaps],\n",
    "                          \"v\"   => [o.V[1] for o in full_full_overlaps],\n",
    "                          \"mhat\"=> [o.m[1] for o in full_full_hat_overlaps],\n",
    "                          \"qhat_diag\"=> [o.Q[1, 1] for o in full_full_hat_overlaps],\n",
    "                          \"qhat_off_diag\"=> [o.Q[1, 2] for o in full_full_hat_overlaps],\n",
    "                          \"vhat\"=> [o.V[1] for o in full_full_hat_overlaps],\n",
    "                          )\n",
    "\n",
    "open(filename, \"w\") do f\n",
    "    write(f, JSON.json(dict_to_save))\n",
    "end"
   ]
  },
  {
   "cell_type": "markdown",
   "metadata": {},
   "source": [
    "# y-resampling correlation"
   ]
  },
  {
   "cell_type": "code",
   "execution_count": 12,
   "metadata": {},
   "outputs": [],
   "source": [
    "label_label_overlaps = []\n",
    "label_label_hat_overlaps = []\n",
    "\n",
    "for alpha in alpha_range\n",
    "    problem = Ridge(α = alpha, Δ = noise_variance, ρ = 1.0, λ = lambda)\n",
    "    result = BootstrapAsymptotics.state_evolution(problem, LabelResampling(), LabelResampling(), rtol=rtol, max_iteration=max_iteration)\n",
    "    push!(label_label_overlaps, result[1])\n",
    "    push!(label_label_hat_overlaps, result[2])\n",
    "end"
   ]
  },
  {
   "cell_type": "code",
   "execution_count": 13,
   "metadata": {},
   "outputs": [
    {
     "data": {
      "text/plain": [
       "8703"
      ]
     },
     "metadata": {},
     "output_type": "display_data"
    }
   ],
   "source": [
    "filename::String = \"data/ridge/ridge_label_label_overlaps_lambda=$lambda.json\"\n",
    "\n",
    "\n",
    "dict_to_save::Dict = Dict(\"alpha\" => alpha_range,\n",
    "                          \"m\"   => [o.m[1] for o in label_label_overlaps],\n",
    "                          \"q_diag\"   => [o.Q[1, 1] for o in label_label_overlaps],\n",
    "                          \"q_off_diag\"   => [o.Q[1, 2] for o in label_label_overlaps],\n",
    "                          \"v\"   => [o.V[1] for o in label_label_overlaps],\n",
    "                          \"mhat\"=> [o.m[1] for o in label_label_hat_overlaps],\n",
    "                          \"qhat_diag\"=> [o.Q[1, 1] for o in label_label_hat_overlaps],\n",
    "                          \"qhat_off_diag\"=> [o.Q[1, 2] for o in label_label_hat_overlaps],\n",
    "                          \"vhat\"=> [o.V[1] for o in label_label_hat_overlaps],\n",
    "                          )\n",
    "\n",
    "open(filename, \"w\") do f\n",
    "    write(f, JSON.json(dict_to_save))\n",
    "end"
   ]
  },
  {
   "cell_type": "markdown",
   "metadata": {},
   "source": [
    "---\n",
    "\n",
    "# Parametric residual bootstrap\n",
    "\n",
    "We compute the variance of the residuals, for ridge it's just the training error \n",
    "\n",
    "1) On calcule l'overlap de ridge regression \n",
    "2) On calcule le bootstrap resampling en utilisant $\\rho = q_{\\rm erm}$ et $\\Delta = \\varepsilon_{\\rm train}$"
   ]
  },
  {
   "cell_type": "code",
   "execution_count": 14,
   "metadata": {},
   "outputs": [
    {
     "data": {
      "text/plain": [
       "get_train_error (generic function with 1 method)"
      ]
     },
     "metadata": {},
     "output_type": "display_data"
    }
   ],
   "source": [
    "function get_train_error(m, q, v, noise_variance; rho = 1.0)\n",
    "    return (rho + noise_variance + q - 2.0 * m) / (1+v)^2\n",
    "end"
   ]
  },
  {
   "cell_type": "code",
   "execution_count": 15,
   "metadata": {},
   "outputs": [],
   "source": [
    "erm_overlaps = []\n",
    "residual_residual_overlaps = []\n",
    "residual_residual_hat_overlaps = []\n",
    "train_errors = []\n",
    "\n",
    "for alpha in alpha_range\n",
    "    problem = Ridge(α = alpha, Δ = noise_variance, ρ = 1.0, λ = lambda)\n",
    "    result = BootstrapAsymptotics.state_evolution(problem, FullResampling(), FullResampling(), rtol=rtol, max_iteration=max_iteration)\n",
    "    push!(erm_overlaps, result[1])\n",
    "    train_error = get_train_error(result[1].m[1], result[1].Q[1, 1], result[1].V[1], noise_variance, rho = 1.0)\n",
    "    problem_erm = Ridge(α = alpha, Δ = train_error, ρ = result[1].Q[1, 1], λ = lambda)\n",
    "    result_2 = BootstrapAsymptotics.state_evolution(problem_erm, LabelResampling(), LabelResampling(), rtol=rtol, max_iteration=max_iteration)\n",
    "    push!(residual_residual_overlaps,     result_2[1])\n",
    "    push!(residual_residual_hat_overlaps, result_2[2])\n",
    "end"
   ]
  },
  {
   "cell_type": "code",
   "execution_count": 16,
   "metadata": {},
   "outputs": [
    {
     "data": {
      "text/plain": [
       "3841"
      ]
     },
     "metadata": {},
     "output_type": "display_data"
    }
   ],
   "source": [
    "to_save = Dict([\n",
    "    \"alpha\" => alpha_range,\n",
    "    \"q_diag\" => [o.Q[1, 1] for o in residual_residual_overlaps],\n",
    "    \"q_off_diag\" => [o.Q[1, 2] for o in residual_residual_overlaps],\n",
    "    \"m\" => [o.m[1] for o in residual_residual_overlaps],\n",
    "])\n",
    "\n",
    "filename::String = \"data/ridge/ridge_residual_residual_overlaps_lambda=$lambda.json\"\n",
    "\n",
    "open(filename, \"w\") do f\n",
    "    write(f, JSON.json(to_save))\n",
    "end"
   ]
  },
  {
   "cell_type": "markdown",
   "metadata": {},
   "source": [
    "--- \n",
    "\n",
    "### Subsampling"
   ]
  },
  {
   "cell_type": "code",
   "execution_count": 16,
   "metadata": {},
   "outputs": [],
   "source": [
    "# pick = 0.99 for jacknife\n",
    "proba = 0.8\n",
    "\n",
    "subsampling_subsampling_overlaps = []\n",
    "subsampling_subsampling_hat_overlaps = []\n",
    "\n",
    "for alpha in alpha_range\n",
    "    problem = Ridge(α = alpha, Δ = noise_variance, ρ = 1.0, λ = lambda)\n",
    "    result = BootstrapAsymptotics.state_evolution(problem, Subsampling(r = proba), Subsampling(r = proba), rtol=0.0, max_iteration=100_000)\n",
    "    push!(subsampling_subsampling_overlaps, result[1])\n",
    "    push!(subsampling_subsampling_hat_overlaps, result[2])\n",
    "end"
   ]
  },
  {
   "cell_type": "code",
   "execution_count": 17,
   "metadata": {},
   "outputs": [
    {
     "data": {
      "text/plain": [
       "8634"
      ]
     },
     "metadata": {},
     "output_type": "display_data"
    }
   ],
   "source": [
    "filename::String = \"data/ridge/ridge_subsampling_subsampling_overlaps_lambda=$(lambda)_p=$(proba).json\"\n",
    "\n",
    "\n",
    "dict_to_save::Dict = Dict(\"alpha\" => alpha_range,\n",
    "                          \"proba\" => proba,\n",
    "                          \"m\"   => [o.m[1] for o in subsampling_subsampling_overlaps],\n",
    "                          \"q_diag\"   => [o.Q[1, 1] for o in subsampling_subsampling_overlaps],\n",
    "                          \"q_off_diag\"   => [o.Q[1, 2] for o in subsampling_subsampling_overlaps],\n",
    "                          \"v\"   => [o.V[1] for o in subsampling_subsampling_overlaps],\n",
    "                          \"mhat\"=> [o.m[1] for o in subsampling_subsampling_hat_overlaps],\n",
    "                          \"qhat_diag\"=> [o.Q[1, 1] for o in subsampling_subsampling_hat_overlaps],\n",
    "                          \"qhat_off_diag\"=> [o.Q[1, 2] for o in subsampling_subsampling_hat_overlaps],\n",
    "                          \"vhat\"=> [o.V[1] for o in subsampling_subsampling_hat_overlaps],\n",
    "                          )\n",
    "\n",
    "open(filename, \"w\") do f\n",
    "    write(f, JSON.json(dict_to_save))\n",
    "end"
   ]
  },
  {
   "cell_type": "code",
   "execution_count": 18,
   "metadata": {},
   "outputs": [],
   "source": [
    "subsampling_full_overlaps = []\n",
    "subsampling_full_hat_overlaps = []\n",
    "\n",
    "for alpha in alpha_range\n",
    "    problem = Ridge(α = alpha, Δ = noise_variance, ρ = 1.0, λ = lambda)\n",
    "    result = BootstrapAsymptotics.state_evolution(problem, Subsampling(r = proba),FullResampling(), rtol=0.0, max_iteration=100_000)\n",
    "    push!(subsampling_full_overlaps, result[1])\n",
    "    push!(subsampling_full_hat_overlaps, result[2])\n",
    "end"
   ]
  },
  {
   "cell_type": "code",
   "execution_count": 19,
   "metadata": {},
   "outputs": [
    {
     "data": {
      "text/plain": [
       "8641"
      ]
     },
     "metadata": {},
     "output_type": "display_data"
    }
   ],
   "source": [
    "filename::String = \"data/ridge/ridge_subsampling_full_overlaps_lambda=$(lambda)_p=$(proba).json\"\n",
    "\n",
    "\n",
    "dict_to_save::Dict = Dict(\"alpha\" => alpha_range,\n",
    "                          \"proba\" => proba,\n",
    "                          \"m\"   => [o.m[1] for o in subsampling_full_overlaps],\n",
    "                          \"q_diag\"   => [o.Q[1, 1] for o in subsampling_full_overlaps],\n",
    "                          \"q_off_diag\"   => [o.Q[1, 2] for o in subsampling_full_overlaps],\n",
    "                          \"v\"   => [o.V[1] for o in subsampling_full_overlaps],\n",
    "                          \"mhat\"=> [o.m[1] for o in subsampling_full_hat_overlaps],\n",
    "                          \"qhat_diag\"=> [o.Q[1, 1] for o in subsampling_full_hat_overlaps],\n",
    "                          \"qhat_off_diag\"=> [o.Q[1, 2] for o in subsampling_full_hat_overlaps],\n",
    "                          \"vhat\"=> [o.V[1] for o in subsampling_full_hat_overlaps],\n",
    "                          )\n",
    "\n",
    "open(filename, \"w\") do f\n",
    "    write(f, JSON.json(dict_to_save))\n",
    "end"
   ]
  },
  {
   "cell_type": "markdown",
   "metadata": {},
   "source": [
    "--- \n",
    "\n",
    "# Bayes-optimal"
   ]
  },
  {
   "cell_type": "code",
   "execution_count": 10,
   "metadata": {},
   "outputs": [],
   "source": [
    "bayes_optimal_overlaps = []\n",
    "bayes_optimal_hat_overlaps = []\n",
    "\n",
    "for alpha in alpha_range\n",
    "    # for ridge, b.o is at lambda optimal = noise_variance here\n",
    "    problem = Ridge(α = alpha, Δ = noise_variance, ρ = 1.0, λ = noise_variance)\n",
    "    result = BootstrapAsymptotics.state_evolution(problem, FullResampling(), FullResampling(), rtol=rtol, max_iteration=max_iteration)\n",
    "    push!(bayes_optimal_overlaps, result[1])\n",
    "    push!(bayes_optimal_hat_overlaps, result[2])\n",
    "end"
   ]
  },
  {
   "cell_type": "code",
   "execution_count": 11,
   "metadata": {},
   "outputs": [
    {
     "data": {
      "text/plain": [
       "3849"
      ]
     },
     "metadata": {},
     "output_type": "display_data"
    }
   ],
   "source": [
    "filename::String = \"data/ridge/ridge_bayes_optimal_overlaps.json\"\n",
    "\n",
    "\n",
    "dict_to_save::Dict = Dict(\"alpha\" => alpha_range,\n",
    "                          \"m\"   => [o.m[1] for o in bayes_optimal_overlaps],\n",
    "                          \"q\"   => [o.Q[1, 1] for o in bayes_optimal_overlaps],\n",
    "                          \"v\"   => [o.V[1] for o in bayes_optimal_overlaps],\n",
    "                          )\n",
    "\n",
    "open(filename, \"w\") do f\n",
    "    write(f, JSON.json(dict_to_save))\n",
    "end"
   ]
  },
  {
   "cell_type": "markdown",
   "metadata": {},
   "source": [
    "--- \n",
    "\n",
    "# Compute experimental values for variance and bias"
   ]
  },
  {
   "cell_type": "code",
   "execution_count": 3,
   "metadata": {},
   "outputs": [],
   "source": [
    "using Colors\n",
    "using JSON\n",
    "using Plots\n",
    "using ProgressMeter\n",
    "using Statistics\n",
    "using StableRNGs"
   ]
  },
  {
   "cell_type": "code",
   "execution_count": 5,
   "metadata": {},
   "outputs": [],
   "source": [
    "α_range_experimental = exp10.(range(-1.0, stop=2.0, length=10))\n",
    "d = 150\n",
    "\n",
    "algo_vals = [\n",
    "    PairBootstrap(; p_max=10), \n",
    "    Subsampling(0.8), # \n",
    "    Subsampling(0.99), # for Jacknife\n",
    "    FullResampling(), #\n",
    "    LabelResampling(),\n",
    "    ResidualBootstrap(), #\n",
    "]\n",
    "\n",
    "rng = StableRNG(0)\n",
    "K = 100\n",
    "\n",
    "bias_emp = Dict(algo => fill(NaN, length(α_range_experimental)) for algo in algo_vals)\n",
    "vars_emp = Dict(algo => fill(NaN, length(α_range_experimental)) for algo in algo_vals)\n",
    "\n",
    "for algo in algo_vals\n",
    "    for i in eachindex(α_range_experimental)\n",
    "        α = α_range_experimental[i]\n",
    "        n = ceil(Int, d * α)\n",
    "        problem = Ridge(; λ = lambda, α = α, Δ = 1.0)\n",
    "        if algo != FullResampling() && algo != LabelResampling()\n",
    "            bias, var = bias_variance_empirical(rng, problem, algo; n = n, K = K)\n",
    "        elseif algo == FullResampling()\n",
    "            bias, var = bias_variance_true(rng, problem; n = n, K, conditional=false)\n",
    "        elseif algo == LabelResampling()\n",
    "            bias, var = bias_variance_true(rng, problem; n = n, K, conditional=true)\n",
    "        end\n",
    "        bias_emp[algo][i] = bias\n",
    "        vars_emp[algo][i] = var\n",
    "    end\n",
    "end"
   ]
  },
  {
   "cell_type": "code",
   "execution_count": null,
   "metadata": {},
   "outputs": [],
   "source": []
  },
  {
   "cell_type": "code",
   "execution_count": 7,
   "metadata": {},
   "outputs": [],
   "source": [
    "# save the results \n",
    "\n",
    "algo_files = Dict(\n",
    "    PairBootstrap(; p_max=10) => \"data/ridge/exp_ridge_bias_variance_pair_bootstrap_lambda=$lambda.json\",\n",
    "    Subsampling(0.8) => \"data/ridge/exp_ridge_bias_variance_subsampling_08_lambda=$lambda.json\",\n",
    "    Subsampling(0.99) => \"data/ridge/exp_ridge_bias_variance_subsampling_099_lambda=$lambda.json\",\n",
    "    FullResampling() => \"data/ridge/exp_ridge_bias_variance_full_resampling_lambda=$lambda.json\",\n",
    "    LabelResampling() => \"data/ridge/exp_ridge_bias_variance_label_resampling_lambda=$lambda.json\",\n",
    "    ResidualBootstrap() => \"data/ridge/exp_ridge_bias_variance_residual_bootstrap_lambda=$lambda.json\",\n",
    ")\n",
    "\n",
    "for algo in algo_vals\n",
    "    filename = algo_files[algo]\n",
    "    dict_to_save = Dict(\n",
    "        \"alpha\" => α_range_experimental,\n",
    "        \"bias\"  => bias_emp[algo],\n",
    "        \"var\"   => vars_emp[algo],\n",
    "        \"K\"     => K,\n",
    "    )\n",
    "    open(filename, \"w\") do f\n",
    "        write(f, JSON.json(dict_to_save))\n",
    "    end\n",
    "end"
   ]
  },
  {
   "cell_type": "markdown",
   "metadata": {},
   "source": [
    "--- \n",
    "\n",
    "### Compute the Bayes-optimal overlap (variance = 1 - q in the state evolutions)"
   ]
  },
  {
   "cell_type": "code",
   "execution_count": 3,
   "metadata": {},
   "outputs": [
    {
     "name": "stdout",
     "output_type": "stream",
     "text": [
      "(overlaps = Overlaps([0.048750780379935736, 0.048750780379935736], [0.04875078060516319 0.002376638587652727; 0.002376638587652727 0.04875078060516319], [0.9512492196200644 0.0; 0.0 0.9512492196200644]), hatoverlaps = HatOverlaps([0.05124921972779644, 0.05124921972779644], [0.05124921973371199 0.0; 0.0 0.05124921973371199], [0.05124921972779644 0.0; 0.0 0.05124921972779644]), stats = ("
     ]
    },
    {
     "name": "stdout",
     "output_type": "stream",
     "text": [
      "converged = true, nb_iterations = 8))\n",
      "(overlaps = Overlaps([0.058520850426761986, 0.058520850426761986], [0.05852085044505012 0.0034246899346714486; 0.0034246899346714486 0.05852085044505012], [0.941479149573238 0.0; 0.0 0.941479149573238]), hatoverlaps = HatOverlaps([0.06215841364583272, 0.06215841364583272], [0.06215841364641825 0.0; 0.0 0.06215841364641825], [0.06215841364583272 0.0; 0.0 0.06215841364583272]), stats = (converged = true, nb_iterations = 9))\n",
      "(overlaps = Overlaps([0.07016974040673465, 0.07016974040673465], [0.07016974046808847 0.00492379246874853; 0.00492379246874853 0.07016974046808847], [0.9298302595932653 0.0; 0.0 0.9298302595932653]), hatoverlaps = HatOverlaps([0.07546510737209533, 0.07546510737209533], [0.07546510737449454 0.0; 0.0 0.07546510737449454], [0.07546510737209533 0.0; 0.0 0.07546510737209533]), stats = (converged = true, nb_iterations = 9))\n",
      "(overlaps = Overlaps([0.08402190206493813, 0.08402190206493813], [0.08402190226627955 0.007059680026610054; 0.007059680026610054 0.08402190226627955], [0.9159780979350619 0.0; 0.0 0.9159780979350619]), hatoverlaps = HatOverlaps([0.09172916051331394, 0.09172916051331394], [0.09172916052295335 0.0; 0.0 0.09172916052295335], [0.09172916051331394 0.0; 0.0 0.09172916051331394]), stats = (converged = true, nb_iterations = 9))\n",
      "(overlaps = Overlaps([0.10044022485220928, 0.10044022485220928], [0.10044022549552946 0.010088238768362361; 0.010088238768362361 0.10044022549552946], [0.8995597751477906 0.0; 0.0 0.8995597751477906]), hatoverlaps = HatOverlaps([0.1116548642305913, 0.1116548642305913], [0.11165486426840522 0.0; 0.0 0.11165486426840522], [0.1116548642305913 0.0; 0.0 0.1116548642305913]), stats = (converged = true, nb_iterations = 9))\n",
      "(overlaps = Overlaps([0.11982154814871203, 0.11982154814871203], [0.11982154826034488 0.014357203400754115; 0.014357203400754115 0.11982154826034488], [0.880178451851288 0.0; 0.0 0.880178451851288]), hatoverlaps = HatOverlaps([0.1361332441704838, 0.1361332441704838], [0.13613324417856654 0.0; 0.0 0.13613324417856654], [0.1361332441704838 0.0; 0.0 0.1361332441704838]), stats = (converged = true, nb_iterations = 10))\n",
      "(overlaps = Overlaps([0.1425862678486072, 0.1425862678486072], [0.14258626823830603 0.02033084377899476; 0.02033084377899476 0.14258626823830603], [0.8574137321513927 0.0; 0.0 0.8574137321513927]), hatoverlaps = HatOverlaps([0.166298091965744, 0.166298091965744], [0.16629809200063456 0.0; 0.0 0.16629809200063456], [0.166298091965744 0.0; 0.0 0.166298091965744]), stats = (converged = true, nb_iterations = 10))\n",
      "(overlaps = Overlaps([0.16915926428304467, 0.16915926428304467], [0.16915926557283792 0.02861485669278096; 0.02861485669278096 0.16915926557283792], [0.8308407357169554 0.0; 0.0 0.8308407357169554]), hatoverlaps = HatOverlaps([0.2036001082778628, 0.2036001082778628], [0.20360010842129528 0.0; 0.0 0.20360010842129528], [0.2036001082778628 0.0; 0.0 0.2036001082778628]), stats = (converged = true, nb_iterations = 10))\n",
      "(overlaps = Overlaps([0.19993883313225277, 0.19993883313225277], [0.19993883348798516 0.039975536994286825; 0.039975536994286825 0.19993883348798516], [0.8000611668677471 0.0; 0.0 0.8000611668677471]), hatoverlaps = HatOverlaps([0.24990443390304815, 0.24990443390304815], [0.24990443395243492 0.0; 0.0 0.24990443395243492], [0.24990443390304815 0.0; 0.0 0.24990443390304815]), stats = (converged = true, nb_iterations = 11))\n",
      "(overlaps = Overlaps([0.23525024970013414, 0.23525024970013414], [0.23525025087254117 0.05534267998397547; 0.05534267998397547 0.23525025087254117], [0.7647497502998659 0.0; 0.0 0.7647497502998659]), hatoverlaps = HatOverlaps([0.30761729465616416, 0.30761729465616416], [0.30761729486052886 0.0; 0.0 0.3076172948605289], [0.30761729465616416 0.0; 0.0 0.30761729465616416]), stats = (converged = true, nb_iterations = 11))\n",
      "(overlaps = Overlaps([0.2752818276228796, 0.2752818276228796], [0.27528182802599244 0.0757800846193928; 0.0757800846193928 0.27528182802599244], [0.7247181723771204 0.0; 0.0 0.7247181723771204]), hatoverlaps = HatOverlaps([0.3798467293683173, 0.3798467293683173], [0.3798467294570977 0.0; 0.0 0.3798467294570977], [0.3798467293683173 0.0; 0.0 0.3798467293683173]), stats = (converged = true, nb_iterations = 12))\n",
      "(overlaps = Overlaps([0.3200050864442872, 0.3200050864442872], [0.32000508763149665 0.10240325535021572; 0.10240325535021572 0.32000508763149665], [0.6799949135557128 0.0; 0.0 0.6799949135557128]), hatoverlaps = HatOverlaps([0.47059923498069056, 0.47059923498069056], [0.470599235313251 0.0; 0.0 0.470599235313251], [0.47059923498069056 0.0; 0.0 0.47059923498069056]), stats = (converged = true, nb_iterations = 12))\n",
      "(overlaps = Overlaps([0.36908810740666437, 0.36908810740666437], [0.36908811038955003 0.1362260310290334; 0.1362260310290334 0.36908811038955003], [0.6309118925933357 0.0; 0.0 0.6309118925933357]), hatoverlaps = HatOverlaps([0.5850073696089575, 0.5850073696089575], [0.5850073706789172 0.0; 0.0 0.5850073706789172], [0.5850073696089575 0.0; 0.0 0.5850073696089575]), stats = (converged = true, nb_iterations = 12))\n",
      "(overlaps = Overlaps([0.4218225585958144, 0.4218225585958144], [0.4218225595604911 0.17793427094031927; 0.17793427094031927 0.4218225595604911], [0.5781774414041855 0.0; 0.0 0.5781774414041855]), hatoverlaps = HatOverlaps([0.7295728408726917, 0.7295728408726917], [0.7295728413186505 0.0; 0.0 0.7295728413186505], [0.7295728408726917 0.0; 0.0 0.7295728408726917]), stats = (converged = true, nb_iterations = 13))\n",
      "(overlaps = Overlaps([0.4770965524298596, 0.4770965524298596], [0.4770965541723819 0.22762112034045776; 0.22762112034045776 0.4770965541723819], [0.5229034475701404 0.0; 0.0 0.5229034475701404]), hatoverlaps = HatOverlaps([0.9123989420275718, 0.9123989420275718], [0.9123989430715483 0.0; 0.0 0.9123989430715483], [0.9123989420275718 0.0; 0.0 0.9123989420275718]), stats = (converged = true, nb_iterations = 13))\n",
      "(overlaps = Overlaps([0.533448202590826, 0.533448202590826], [0.533448205049168 0.284566984847383; 0.284566984847383 0.533448205049168], [0.46655179740917396 0.0; 0.0 0.46655179740917396]), hatoverlaps = HatOverlaps([1.1433847340225687, 1.1433847340225687], [1.1433847359391942 0.0; 0.0 1.1433847359391942], [1.1433847340225687 0.0; 0.0 1.1433847340225687]), stats = (converged = true, nb_iterations = 13))\n",
      "(overlaps = Overlaps([0.5892166128217836, 0.5892166128217836], [0.5892166154944554 0.3471762168251757; 0.3471762168251757 0.5892166154944554], [0.41078338717821644 0.0; 0.0 0.41078338717821644]), hatoverlaps = HatOverlaps([1.4343730342420937, 1.4343730342420937], [1.434373036959455 0.0; 0.0 1.434373036959455], [1.4343730342420937 0.0; 0.0 1.4343730342420937]), stats = (converged = true, nb_iterations = 13))\n",
      "(overlaps = Overlaps([0.6427661661743613, 0.6427661661743613], [0.6427661684053554 0.41314834437848663; 0.41314834437848663 0.6427661684053554], [0.35723383382563856 0.0; 0.0 0.35723383382563856]), hatoverlaps = HatOverlaps([1.7992869273419376, 1.7992869273419376], [1.7992869302995698 0.0; 0.0 1.7992869302995698], [1.7992869273419376 0.0; 0.0 1.7992869273419376]), stats = (converged = true, nb_iterations = 13))\n",
      "(overlaps = Overlaps([0.6927174834530313, 0.6927174834530313], [0.69271749229472 0.47985751188150066; 0.47985751188150066 0.69271749229472], [0.30728251654696864 0.0; 0.0 0.30728251654696864]), hatoverlaps = HatOverlaps([2.2543342125741095, 2.2543342125741095], [2.2543342278210985 0.0; 0.0 2.2543342278210976], [2.2543342125741095 0.0; 0.0 2.2543342125741095]), stats = (converged = true, nb_iterations = 12))\n",
      "(overlaps = Overlaps([0.7381082826997585, 0.7381082826997585], [0.738108287464015 0.5448038369899866; 0.5448038369899866 0.738108287464015], [0.2618917173002414 0.0; 0.0 0.2618917173002414]), hatoverlaps = HatOverlaps([2.8183720183472265, 2.8183720183472265], [2.8183720289879552 0.0; 0.0 2.8183720289879552], [2.8183720183472265 0.0; 0.0 2.8183720183472265]), stats = (converged = true, nb_iterations = 12))\n",
      "(overlaps = Overlaps([0.7784420663667804, 0.7784420663667804], [0.7784420684726189 0.605972050689383; 0.605972050689383 0.7784420684726189], [0.22155793363321954 0.0; 0.0 0.22155793363321954]), hatoverlaps = HatOverlaps([3.5134921905533285, 3.5134921905533285], [3.5134921966102226 0.0; 0.0 3.5134921966102226], [3.5134921905533285 0.0; 0.0 3.5134921905533285]), stats = (converged = true, nb_iterations = 12))\n",
      "(overlaps = Overlaps([0.8136358482941931, 0.8136358482941931], [0.8136358490759578 0.6620032936294112; 0.6620032936294112 0.8136358490759578], [0.1863641517058068 0.0; 0.0 0.1863641517058068]), hatoverlaps = HatOverlaps([4.365838829320604, 4.365838829320604], [4.365838832197513 0.0; 0.0 4.365838832197513], [4.365838829320604 0.0; 0.0 4.365838829320604]), stats = (converged = true, nb_iterations = 12))\n",
      "(overlaps = Overlaps([0.8439119399205632, 0.8439119399205632], [0.8439119421122553 0.7121873623404884; 0.7121873623404884 0.8439119421122553], [0.15608806007943665 0.0; 0.0 0.15608806007943665]), hatoverlaps = HatOverlaps([5.4066399793494, 5.4066399793494], [5.406639989599218 0.0; 0.0 5.406639989599218], [5.4066399793494 0.0; 0.0 5.4066399793494]), stats = (converged = true, nb_iterations = 11))\n",
      "(overlaps = Overlaps([0.8696803467859797, 0.8696803467859797], [0.8696803474864244 0.756343905585782; 0.756343905585782 0.8696803474864244], [0.13031965321402025 0.0; 0.0 0.13031965321402025]), hatoverlaps = HatOverlaps([6.673439714072074, 6.673439714072074], [6.6734397182075185 0.0; 0.0 6.6734397182075185], [6.673439714072074 0.0; 0.0 6.673439714072074]), stats = (converged = true, nb_iterations = 11))\n",
      "(overlaps = Overlaps([0.891440533749209, 0.891440533749209], [0.8914405339526017 0.7946662252110744; 0.7946662252110744 0.8914405339526017], [0.10855946625079105 0.0; 0.0 0.10855946625079105]), hatoverlaps = HatOverlaps([8.211541245236038, 8.211541245236038], [8.211541246742653 0.0; 0.0 8.211541246742653], [8.211541245236038 0.0; 0.0 8.211541245236038]), stats = (converged = true, nb_iterations = 11))\n",
      "(overlaps = Overlaps([0.9097122458039626, 0.9097122458039626], [0.9097122465278904 0.8275763701656894; 0.8275763701656894 0.9097122465278904], [0.09028775419603745 0.0; 0.0 0.09028775419603745]), hatoverlaps = HatOverlaps([10.075699169872882, 10.075699169872882], [10.075699176562944 0.0; 0.0 10.075699176562944], [10.075699169872882 0.0; 0.0 10.075699169872882])"
     ]
    },
    {
     "name": "stdout",
     "output_type": "stream",
     "text": [
      ", stats = (converged = true, nb_iterations = 10))\n",
      "(overlaps = Overlaps([0.9249931769487588, 0.9249931769487588], [0.9249931771608779 0.855612377401758; 0.855612377401758 0.9249931771608779], [0.07500682305124115 0.0; 0.0 0.07500682305124115]), hatoverlaps = HatOverlaps([12.332120477405729, 12.332120477405729], [12.332120479839078 0.0; 0.0 12.332120479839078], [12.332120477405729 0.0; 0.0 12.332120477405729]), stats = (converged = true, nb_iterations = 10))\n",
      "(overlaps = Overlaps([0.9377367956563386, 0.9377367956563386], [0.9377367967336863 0.8793502979278178; 0.8793502979278178 0.9377367967336863], [0.06226320434366133 0.0; 0.0 0.06226320434366133]), hatoverlaps = HatOverlaps([15.060850390601264, 15.060850390601264], [15.060850405875973 0.0; 0.0 15.060850405875973], [15.060850390601264 0.0; 0.0 15.060850390601264]), stats = (converged = true, nb_iterations = 9))\n",
      "(overlaps = Overlaps([0.948343461992572, 0.948343461992572], [0.9483434623335654 0.8993553219040568; 0.8993553219040568 0.9483434623335654], [0.05165653800742804 0.0; 0.0 0.05165653800742804]), hatoverlaps = HatOverlaps([18.358633822990733, 18.358633822990733], [18.358633828943372 0.0; 0.0 18.358633828943372], [18.358633822990733 0.0; 0.0 18.358633822990733]), stats = (converged = true, nb_iterations = 9))\n",
      "(overlaps = Overlaps([0.9571594278304288, 0.9571594278304288], [0.9571594279352855 0.9161541702846738; 0.9161541702846738 0.9571594279352855], [0.04284057216957117 0.0; 0.0 0.04284057216957117]), hatoverlaps = HatOverlaps([22.342358675862005, 22.342358675862005], [22.342358678108535 0.0; 0.0 22.342358678108535], [22.342358675862005 0.0; 0.0 22.342358675862005]), stats = (converged = true, nb_iterations = 9))\n",
      "(overlaps = Overlaps([0.9644800678058904, 0.9644800678058904], [0.9644800678373763 0.930221801194855; 0.930221801194855 0.9644800678373763], [0.03551993219410958 0.0; 0.0 0.03551993219410958]), hatoverlaps = HatOverlaps([27.153206911396865, 27.153206911396865], [27.153206912222505 0.0; 0.0 27.153206912222505], [27.153206911396865 0.0; 0.0 27.153206911396865]), stats = (converged = true, nb_iterations = 9))\n",
      "(overlaps = Overlaps([0.9705550338776537, 0.9705550338776537], [0.9705550342116088 0.9419770737852536; 0.9419770737852536 0.9705550342116088], [0.029444966122346202 0.0; 0.0 0.029444966122346202]), hatoverlaps = HatOverlaps([32.96166267806156, 32.96166267806156], [32.961662688754586 0.0; 0.0 32.961662688754586], [32.96166267806156 0.0; 0.0 32.96166267806156]), stats = (converged = true, nb_iterations = 8))\n",
      "(overlaps = Overlaps([0.9755940151207863, 0.9755940151207863], [0.9755940152363451 0.951783682339497; 0.951783682339497 0.9755940152363451], [0.02440598487921366 0.0; 0.0 0.02440598487921366]), hatoverlaps = HatOverlaps([39.97355660571673, 39.97355660571673], [39.973556610226034 0.0; 0.0 39.973556610226034], [39.97355660571673 0.0; 0.0 39.97355660571673]), stats = (converged = true, nb_iterations = 8))\n",
      "(overlaps = Overlaps([0.9797723831454412, 0.9797723831454412], [0.97977238318497 0.9599539227744972; 0.9599539227744972 0.97977238318497], [0.020227616854558737 0.0; 0.0 0.020227616854558737]), hatoverlaps = HatOverlaps([48.43736122885521, 48.43736122885521], [48.43736123073195 0.0; 0.0 48.43736123073195], [48.43736122885521 0.0; 0.0 48.43736122885521]), stats = (converged = true, nb_iterations = 8))\n",
      "(overlaps = Overlaps([0.9832363828399936, 0.9832363828399936], [0.9832363828533871 0.9667537845402744; 0.9667537845402744 0.9832363828533871], [0.016763617160006454 0.0; 0.0 0.016763617160006454]), hatoverlaps = HatOverlaps([58.6529967825959, 58.6529967825959], [58.652996783368245 0.0; 0.0 58.652996783368245], [58.6529967825959 0.0; 0.0 58.6529967825959]), stats = (converged = true, nb_iterations = 8))\n",
      "(overlaps = Overlaps([0.9861077267137307, 0.9861077267137307], [0.9861077267182333 0.9724084486845219; 0.9724084486845219 0.9861077267182333], [0.013892273286269258 0.0; 0.0 0.013892273286269258]), hatoverlaps = HatOverlaps([70.98245957319287, 70.98245957319287], [70.98245957350767 0.0; 0.0 70.98245957350767], [70.98245957319287 0.0; 0.0 70.98245957319287]), stats = (converged = true, nb_iterations = 8))\n",
      "(overlaps = Overlaps([0.9884875719325695, 0.9884875719325695], [0.9884875720662369 0.9771076798651466; 0.9771076798651466 0.9884875720662369], [0.011512428067430495 0.0; 0.0 0.011512428067430495]), hatoverlaps = HatOverlaps([85.86264979568347, 85.86264979568347], [85.86264980702876 0.0; 0.0 85.86264980702876], [85.86264979568347 0.0; 0.0 85.86264979568347]), stats = (converged = true, nb_iterations = 7))\n",
      "(overlaps = Overlaps([0.9904599135547214, 0.9904599135547214], [0.9904599136080959 0.9810108403588261; 0.9810108403588261 0.9904599136080959], [0.009540086445278564 0.0; 0.0 0.009540086445278564]), hatoverlaps = HatOverlaps([103.8208534982724, 103.8208534982724], [103.82085350376197 0.0; 0.0 103.82085350376197], [103.8208534982724 0.0; 0.0 103.8208534982724]), stats = (converged = true, nb_iterations = 7))\n",
      "(overlaps = Overlaps([0.9920944508846755, 0.9920944508846755], [0.9920944509059089 0.9842513994761657; 0.9842513994761657 0.9920944509059089], [0.007905549115324628 0.0; 0.0 0.007905549115324628]), hatoverlaps = HatOverlaps([125.49342723288956, 125.49342723288956], [125.49342723553343 0.0; 0.0 125.49342723553343], [125.49342723288956 0.0; 0.0 125.49342723288956]), stats = (converged = true, nb_iterations = 7))\n",
      "(overlaps = Overlaps([0.9934489955785829, 0.9934489955785829], [0.9934489955870035 0.9869409068160953; 0.9869409068160953 0.9934489955870035], [0.0065510044214171104 0.0; 0.0 0.0065510044214171104]), hatoverlaps = HatOverlaps([151.6483477211018, 151.6483477211018], [151.64834772237222 0.0; 0.0 151.64834772237222], [151.6483477211018 0.0; 0.0 151.6483477211018]), stats = (converged = true, nb_iterations = 7))\n",
      "(overlaps = Overlaps([0.9945714845349167, 0.9945714845349167], [0.9945714845382477 0.9891724378499881; 0.9891724378499881 0.9945714845382477], [0.005428515465083326 0.0; 0.0 0.005428515465083326]), hatoverlaps = HatOverlaps([183.2124254477332, 183.2124254477332], [183.2124254483428 0.0; 0.0 183.2124254483428], [183.2124254477332 0.0; 0.0 183.2124254477332]), stats = (converged = true, nb_iterations = 7))\n",
      "(overlaps = Overlaps([0.9955016583562939, 0.9955016583562939], [0.9955016583576085 0.9910235517901312; 0.9910235517901312 0.9955016583576085], [0.004498341643706169 0.0; 0.0 0.004498341643706169]), hatoverlaps = HatOverlaps([221.30414659407063, 221.30414659407063], [221.3041465943651 0.0; 0.0 221.3041465943651], [221.30414659407063 0.0; 0.0 221.30414659407063]), stats = (converged = true, nb_iterations = 7))\n",
      "(overlaps = Overlaps([0.9962724580726491, 0.9962724580726491], [0.9962724580731669 0.9925588107141182; 0.9925588107141182 0.9962724580731669], [0.003727541927350904 0.0; 0.0 0.003727541927350904]), hatoverlaps = HatOverlaps([267.273307069808, 267.273307069808], [267.27330706994724 0.0; 0.0 267.27330706994724], [267.273307069808 0.0; 0.0 267.273307069808]), stats = (converged = true, nb_iterations = 7))\n",
      "(overlaps = Overlaps([0.9969111858733419, 0.9969111858733419], [0.9969111858735455 0.993831912519393; 0.993831912519393 0.9969111858735455], [0.0030888141266580526 0.0; 0.0 0.0030888141266580526]), hatoverlaps = HatOverlaps([322.74884309584735, 322.74884309584735], [322.74884309590755 0.0; 0.0 322.74884309590755], [322.74884309584735 0.0; 0.0 322.74884309584735]), stats = (converged = true, nb_iterations = 7))\n",
      "(overlaps = Overlaps([0.9974404688245201, 0.9974404688245201], [0.9974404688559761 0.9948874888488785; 0.9948874888488785 0.9974404688559761], [0.0025595311754798246 0.0; 0.0 0.0025595311754798246]), hatoverlaps = HatOverlaps([389.6965532284964, 389.6965532284964], [389.6965532407251 0.0; 0.0 389.6965532407251], [389.6965532284964 0.0; 0.0 389.6965532284964]), stats = (converged = true, nb_iterations = 6))\n",
      "(overlaps = Overlaps([0.9978790586430538, 0.9978790586430538], [0.9978790586579438 0.9957626156783473; 0.9957626156783473 0.9978790586579438], [0.0021209413569461604 0.0; 0.0 0.0021209413569461604]), hatoverlaps = HatOverlaps([470.488757282441, 470.488757282441], [470.48875728944165 0.0; 0.0 470.48875728944165], [470.488757282441 0.0; 0.0 470.488757282441]), stats = (converged = true, nb_iterations = 6))\n",
      "(overlaps = Overlaps([0.998242494799104, 0.998242494799104], [0.9982424948061475 0.996488078422739; 0.996488078422739 0.9982424948061475], [0.0017575052008960688 0.0; 0.0 0.0017575052008960688]), hatoverlaps = HatOverlaps([567.9883604043708, 567.9883604043708], [567.9883604083861 0.0; 0.0 567.9883604083861], [567.9883604043708 0.0; 0.0 567.9883604043708]), stats = (converged = true, nb_iterations = 6))\n",
      "(overlaps = Overlaps([0.9985436546091142, 0.9985436546091142], [0.9985436546124443 0.997089430160126; 0.997089430160126 0.9985436546124443], [0.0014563453908858115 0.0; 0.0 0.0014563453908858115]), hatoverlaps = HatOverlaps([685.650301348172, 685.650301348172], [685.6503013504788 0.0; 0.0 685.6503013504788], [685.650301348172 0.0; 0.0 685.650301348172]), stats = (converged = true, nb_iterations = 6))\n",
      "(overlaps = Overlaps([0.9987932091158191, 0.9987932091158191], [0.9987932091173928 0.9975878745758764; 0.9975878745758764 0.9987932091173928], [0.0012067908841809382 0.0; 0.0 0.0012067908841809382]), hatoverlaps = HatOverlaps([827.6439796447019, 827.6439796447019], [827.6439796460157 0.0; 0.0 827.6439796460157], [827.6439796447019 0.0; 0.0 827.6439796447019]), stats = (converged = true, nb_iterations = 6))\n",
      "(overlaps = Overlaps([0.9990000009995033, 0.9990000009995033], [0.9990000010002464 0.9980010019970074; 0.9980010019970074 0.9990000010002464], [0.000999999000496775 0.0; 0.0 0.000999999000496775]), hatoverlaps = HatOverlaps([999.0009999985062, 999.0009999985062], [999.000999999297 0.0; 0.0 999.000999999297], [999.0009999985062 0.0; 0.0 999.0009999985062]), stats = (converged = true, nb_iterations = 6))\n"
     ]
    }
   ],
   "source": [
    "bayes_optimal_q = fill(0.0, length(alpha_range))\n",
    "\n",
    "for i in eachindex(alpha_range)\n",
    "    α = alpha_range[i]\n",
    "    problem = Ridge(α = α, Δ = noise_variance, ρ = 1.0, λ = 1.0)\n",
    "    res     = state_evolution_BayesOpt(problem, rtol=1e-8, max_iteration=100)\n",
    "    bayes_optimal_q[i] = res.q\n",
    "end"
   ]
  },
  {
   "cell_type": "code",
   "execution_count": 13,
   "metadata": {},
   "outputs": [
    {
     "data": {
      "text/plain": [
       "1171"
      ]
     },
     "metadata": {},
     "output_type": "display_data"
    }
   ],
   "source": [
    "filename = \"data/ridge/ridge_bayes_optimal_overlaps.json\"\n",
    "\n",
    "dict_to_save = Dict(\"alpha\" => alpha_range,\n",
    "                    \"q\" => bayes_optimal_q\n",
    "                    )\n",
    "\n",
    "open(filename, \"w\") do f\n",
    "    write(f, JSON.json(dict_to_save))\n",
    "end"
   ]
  }
 ],
 "metadata": {
  "kernelspec": {
   "display_name": "Julia 1.10.0",
   "language": "julia",
   "name": "julia-1.10"
  },
  "language_info": {
   "file_extension": ".jl",
   "mimetype": "application/julia",
   "name": "julia",
   "version": "1.10.0"
  }
 },
 "nbformat": 4,
 "nbformat_minor": 2
}

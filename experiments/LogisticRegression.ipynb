{
 "cells": [
  {
   "cell_type": "code",
   "execution_count": 26,
   "metadata": {},
   "outputs": [],
   "source": [
    "using JSON\n",
    "using Plots\n",
    "using ProgressBars\n",
    "\n",
    "using BootstrapAsymptotics"
   ]
  },
  {
   "cell_type": "code",
   "execution_count": 27,
   "metadata": {},
   "outputs": [
    {
     "data": {
      "text/plain": [
       "50"
      ]
     },
     "metadata": {},
     "output_type": "display_data"
    }
   ],
   "source": [
    "alpha_range    = exp10.(range(-1.0, stop=3.0, length=50))\n",
    "\n",
    "lambda        = 1.0\n",
    "max_iteration = 50"
   ]
  },
  {
   "cell_type": "code",
   "execution_count": 28,
   "metadata": {},
   "outputs": [
    {
     "name": "stdout",
     "output_type": "stream",
     "text": [
      "alpha = 0.1, lambda = 1.0\n"
     ]
    },
    {
     "name": "stdout",
     "output_type": "stream",
     "text": [
      "alpha = 0.12067926406393285, lambda = 1.0\n"
     ]
    },
    {
     "name": "stdout",
     "output_type": "stream",
     "text": [
      "alpha = 0.14563484775012436, lambda = 1.0\n"
     ]
    },
    {
     "name": "stdout",
     "output_type": "stream",
     "text": [
      "alpha = 0.1757510624854792, lambda = 1.0\n"
     ]
    },
    {
     "name": "stdout",
     "output_type": "stream",
     "text": [
      "alpha = 0.2120950887920191, lambda = 1.0\n"
     ]
    },
    {
     "name": "stdout",
     "output_type": "stream",
     "text": [
      "alpha = 0.2559547922699536, lambda = 1.0\n"
     ]
    },
    {
     "name": "stdout",
     "output_type": "stream",
     "text": [
      "alpha = 0.3088843596477481, lambda = 1.0\n"
     ]
    },
    {
     "name": "stdout",
     "output_type": "stream",
     "text": [
      "alpha = 0.37275937203149406, lambda = 1.0\n"
     ]
    },
    {
     "name": "stdout",
     "output_type": "stream",
     "text": [
      "alpha = 0.4498432668969446, lambda = 1.0\n"
     ]
    },
    {
     "name": "stdout",
     "output_type": "stream",
     "text": [
      "alpha = 0.542867543932386, lambda = 1.0\n"
     ]
    },
    {
     "name": "stdout",
     "output_type": "stream",
     "text": [
      "alpha = 0.6551285568595508, lambda = 1.0\n"
     ]
    },
    {
     "name": "stdout",
     "output_type": "stream",
     "text": [
      "alpha = 0.79060432109077, lambda = 1.0\n"
     ]
    },
    {
     "name": "stdout",
     "output_type": "stream",
     "text": [
      "alpha = 0.9540954763499939, lambda = 1.0\n"
     ]
    },
    {
     "name": "stdout",
     "output_type": "stream",
     "text": [
      "alpha = 1.1513953993264474, lambda = 1.0\n"
     ]
    },
    {
     "name": "stdout",
     "output_type": "stream",
     "text": [
      "alpha = 1.3894954943731377, lambda = 1.0\n"
     ]
    },
    {
     "name": "stdout",
     "output_type": "stream",
     "text": [
      "alpha = 1.6768329368110082, lambda = 1.0\n"
     ]
    },
    {
     "name": "stdout",
     "output_type": "stream",
     "text": [
      "alpha = 2.023589647725157, lambda = 1.0\n"
     ]
    },
    {
     "name": "stdout",
     "output_type": "stream",
     "text": [
      "alpha = 2.442053094548651, lambda = 1.0\n"
     ]
    },
    {
     "name": "stdout",
     "output_type": "stream",
     "text": [
      "alpha = 2.947051702551811, lambda = 1.0\n"
     ]
    },
    {
     "name": "stdout",
     "output_type": "stream",
     "text": [
      "alpha = 3.5564803062231287, lambda = 1.0\n"
     ]
    },
    {
     "name": "stdout",
     "output_type": "stream",
     "text": [
      "alpha = 4.291934260128778, lambda = 1.0\n"
     ]
    },
    {
     "name": "stdout",
     "output_type": "stream",
     "text": [
      "alpha = 5.179474679231212, lambda = 1.0\n"
     ]
    },
    {
     "name": "stdout",
     "output_type": "stream",
     "text": [
      "alpha = 6.250551925273973, lambda = 1.0\n"
     ]
    },
    {
     "name": "stdout",
     "output_type": "stream",
     "text": [
      "alpha = 7.543120063354617, lambda = 1.0\n"
     ]
    },
    {
     "name": "stdout",
     "output_type": "stream",
     "text": [
      "alpha = 9.102981779915218, lambda = 1.0\n"
     ]
    },
    {
     "name": "stdout",
     "output_type": "stream",
     "text": [
      "alpha = 10.985411419875584, lambda = 1.0\n"
     ]
    },
    {
     "name": "stdout",
     "output_type": "stream",
     "text": [
      "alpha = 13.257113655901088, lambda = 1.0\n"
     ]
    },
    {
     "name": "stdout",
     "output_type": "stream",
     "text": [
      "alpha = 15.998587196060582, lambda = 1.0\n"
     ]
    },
    {
     "name": "stdout",
     "output_type": "stream",
     "text": [
      "alpha = 19.306977288832506, lambda = 1.0\n"
     ]
    },
    {
     "name": "stdout",
     "output_type": "stream",
     "text": [
      "alpha = 23.29951810515372, lambda = 1.0\n"
     ]
    },
    {
     "name": "stdout",
     "output_type": "stream",
     "text": [
      "alpha = 28.11768697974231, lambda = 1.0\n"
     ]
    },
    {
     "name": "stdout",
     "output_type": "stream",
     "text": [
      "alpha = 33.93221771895328, lambda = 1.0\n"
     ]
    },
    {
     "name": "stdout",
     "output_type": "stream",
     "text": [
      "alpha = 40.94915062380425, lambda = 1.0\n"
     ]
    },
    {
     "name": "stdout",
     "output_type": "stream",
     "text": [
      "alpha = 49.417133613238356, lambda = 1.0\n"
     ]
    },
    {
     "name": "stdout",
     "output_type": "stream",
     "text": [
      "alpha = 59.63623316594643, lambda = 1.0\n"
     ]
    },
    {
     "name": "stdout",
     "output_type": "stream",
     "text": [
      "alpha = 71.96856730011521, lambda = 1.0\n"
     ]
    },
    {
     "name": "stdout",
     "output_type": "stream",
     "text": [
      "alpha = 86.85113737513525, lambda = 1.0\n"
     ]
    },
    {
     "name": "stdout",
     "output_type": "stream",
     "text": [
      "alpha = 104.81131341546852, lambda = 1.0\n"
     ]
    },
    {
     "name": "stdout",
     "output_type": "stream",
     "text": [
      "alpha = 126.48552168552958, lambda = 1.0\n"
     ]
    },
    {
     "name": "stdout",
     "output_type": "stream",
     "text": [
      "alpha = 152.64179671752333, lambda = 1.0\n"
     ]
    },
    {
     "name": "stdout",
     "output_type": "stream",
     "text": [
      "alpha = 184.20699693267164, lambda = 1.0\n"
     ]
    },
    {
     "name": "stdout",
     "output_type": "stream",
     "text": [
      "alpha = 222.29964825261956, lambda = 1.0\n"
     ]
    },
    {
     "name": "stdout",
     "output_type": "stream",
     "text": [
      "alpha = 268.26957952797244, lambda = 1.0\n"
     ]
    },
    {
     "name": "stdout",
     "output_type": "stream",
     "text": [
      "alpha = 323.74575428176433, lambda = 1.0\n"
     ]
    },
    {
     "name": "stdout",
     "output_type": "stream",
     "text": [
      "alpha = 390.6939937054617, lambda = 1.0\n"
     ]
    },
    {
     "name": "stdout",
     "output_type": "stream",
     "text": [
      "alpha = 471.48663634573944, lambda = 1.0\n"
     ]
    },
    {
     "name": "stdout",
     "output_type": "stream",
     "text": [
      "alpha = 568.9866029018299, lambda = 1.0\n"
     ]
    },
    {
     "name": "stdout",
     "output_type": "stream",
     "text": [
      "alpha = 686.6488450042998, lambda = 1.0\n"
     ]
    },
    {
     "name": "stdout",
     "output_type": "stream",
     "text": [
      "alpha = 828.6427728546843, lambda = 1.0\n"
     ]
    },
    {
     "name": "stdout",
     "output_type": "stream",
     "text": [
      "alpha = 1000.0, lambda = 1.0\n"
     ]
    }
   ],
   "source": [
    "bootstrap_bootstrap_overlaps        = []\n",
    "bootstrap_bootstrap_hat_overlaps    = []\n",
    "\n",
    "for alpha in alpha_range\n",
    "    println(\"alpha = $alpha, lambda = $lambda\")\n",
    "    ov, hat_ov = state_evolution(\n",
    "        Logistic(; α=alpha, λ=lambda),\n",
    "        PairBootstrap(; p_max=10),\n",
    "        PairBootstrap(; p_max=10);\n",
    "        rtol=1e-4,\n",
    "        max_iteration=100,\n",
    "        show_progress=false\n",
    "    )\n",
    "    push!(bootstrap_bootstrap_overlaps, ov)\n",
    "    push!(bootstrap_bootstrap_hat_overlaps, hat_ov)\n",
    "end"
   ]
  },
  {
   "cell_type": "code",
   "execution_count": 29,
   "metadata": {},
   "outputs": [
    {
     "data": {
      "text/plain": [
       "8687"
      ]
     },
     "metadata": {},
     "output_type": "display_data"
    }
   ],
   "source": [
    "# save the overlaps into a file\n",
    "filename = \"data/logistic/bootstrap_bootstrap_overlaps_lambda=$lambda.json\"\n",
    "\n",
    "dict_to_save = Dict(\"alpha\" => alpha_range,\n",
    "                    \"m\"   => [o.m[1] for o in bootstrap_bootstrap_overlaps],\n",
    "                    \"q_diag\"   => [o.Q[1, 1] for o in bootstrap_bootstrap_overlaps],\n",
    "                    \"q_off_diag\"   => [o.Q[1, 2] for o in bootstrap_bootstrap_overlaps],\n",
    "                    \"v\"   => [o.V[1] for o in bootstrap_bootstrap_overlaps],\n",
    "\n",
    "                    \"mhat\"=> [o.m[1] for o in bootstrap_bootstrap_hat_overlaps],\n",
    "                    \"qhat_diag\"=> [o.Q[1, 1] for o in bootstrap_bootstrap_hat_overlaps],\n",
    "                    \"qhat_off_diag\"=> [o.Q[1, 2] for o in bootstrap_bootstrap_hat_overlaps],\n",
    "                    \"vhat\"=> [o.V[1] for o in bootstrap_bootstrap_hat_overlaps],\n",
    "                    )\n",
    "\n",
    "open(filename, \"w\") do f\n",
    "    write(f, JSON.json(dict_to_save))\n",
    "end"
   ]
  },
  {
   "cell_type": "markdown",
   "metadata": {},
   "source": [
    "--- \n",
    "\n",
    "Compute the correlation between Bootstrap and ERM on full data"
   ]
  },
  {
   "cell_type": "code",
   "execution_count": 30,
   "metadata": {},
   "outputs": [
    {
     "name": "stdout",
     "output_type": "stream",
     "text": [
      "alpha = 0.1, lambda = 1.0\n"
     ]
    },
    {
     "name": "stdout",
     "output_type": "stream",
     "text": [
      "alpha = 0.12067926406393285, lambda = 1.0\n"
     ]
    },
    {
     "name": "stdout",
     "output_type": "stream",
     "text": [
      "alpha = 0.14563484775012436, lambda = 1.0\n"
     ]
    },
    {
     "name": "stdout",
     "output_type": "stream",
     "text": [
      "alpha = 0.1757510624854792, lambda = 1.0\n"
     ]
    },
    {
     "name": "stdout",
     "output_type": "stream",
     "text": [
      "alpha = 0.2120950887920191, lambda = 1.0\n"
     ]
    },
    {
     "name": "stdout",
     "output_type": "stream",
     "text": [
      "alpha = 0.2559547922699536, lambda = 1.0\n"
     ]
    },
    {
     "name": "stdout",
     "output_type": "stream",
     "text": [
      "alpha = 0.3088843596477481, lambda = 1.0\n"
     ]
    },
    {
     "name": "stdout",
     "output_type": "stream",
     "text": [
      "alpha = 0.37275937203149406, lambda = 1.0\n"
     ]
    },
    {
     "name": "stdout",
     "output_type": "stream",
     "text": [
      "alpha = 0.4498432668969446, lambda = 1.0\n"
     ]
    },
    {
     "name": "stdout",
     "output_type": "stream",
     "text": [
      "alpha = 0.542867543932386, lambda = 1.0\n"
     ]
    },
    {
     "name": "stdout",
     "output_type": "stream",
     "text": [
      "alpha = 0.6551285568595508, lambda = 1.0\n"
     ]
    },
    {
     "name": "stdout",
     "output_type": "stream",
     "text": [
      "alpha = 0.79060432109077, lambda = 1.0\n"
     ]
    },
    {
     "name": "stdout",
     "output_type": "stream",
     "text": [
      "alpha = 0.9540954763499939, lambda = 1.0\n"
     ]
    },
    {
     "name": "stdout",
     "output_type": "stream",
     "text": [
      "alpha = 1.1513953993264474, lambda = 1.0\n"
     ]
    },
    {
     "name": "stdout",
     "output_type": "stream",
     "text": [
      "alpha = 1.3894954943731377, lambda = 1.0\n"
     ]
    },
    {
     "name": "stdout",
     "output_type": "stream",
     "text": [
      "alpha = 1.6768329368110082, lambda = 1.0\n"
     ]
    },
    {
     "name": "stdout",
     "output_type": "stream",
     "text": [
      "alpha = 2.023589647725157, lambda = 1.0\n"
     ]
    },
    {
     "name": "stdout",
     "output_type": "stream",
     "text": [
      "alpha = 2.442053094548651, lambda = 1.0\n"
     ]
    },
    {
     "name": "stdout",
     "output_type": "stream",
     "text": [
      "alpha = 2.947051702551811, lambda = 1.0\n"
     ]
    },
    {
     "name": "stdout",
     "output_type": "stream",
     "text": [
      "alpha = 3.5564803062231287, lambda = 1.0\n"
     ]
    },
    {
     "name": "stdout",
     "output_type": "stream",
     "text": [
      "alpha = 4.291934260128778, lambda = 1.0\n"
     ]
    },
    {
     "name": "stdout",
     "output_type": "stream",
     "text": [
      "alpha = 5.179474679231212, lambda = 1.0\n"
     ]
    },
    {
     "name": "stdout",
     "output_type": "stream",
     "text": [
      "alpha = 6.250551925273973, lambda = 1.0\n"
     ]
    },
    {
     "name": "stdout",
     "output_type": "stream",
     "text": [
      "alpha = 7.543120063354617, lambda = 1.0\n"
     ]
    },
    {
     "name": "stdout",
     "output_type": "stream",
     "text": [
      "alpha = 9.102981779915218, lambda = 1.0\n"
     ]
    },
    {
     "name": "stdout",
     "output_type": "stream",
     "text": [
      "alpha = 10.985411419875584, lambda = 1.0\n"
     ]
    },
    {
     "name": "stdout",
     "output_type": "stream",
     "text": [
      "alpha = 13.257113655901088, lambda = 1.0\n"
     ]
    },
    {
     "name": "stdout",
     "output_type": "stream",
     "text": [
      "alpha = 15.998587196060582, lambda = 1.0\n"
     ]
    },
    {
     "name": "stdout",
     "output_type": "stream",
     "text": [
      "alpha = 19.306977288832506, lambda = 1.0\n"
     ]
    },
    {
     "name": "stdout",
     "output_type": "stream",
     "text": [
      "alpha = 23.29951810515372, lambda = 1.0\n"
     ]
    },
    {
     "name": "stdout",
     "output_type": "stream",
     "text": [
      "alpha = 28.11768697974231, lambda = 1.0\n"
     ]
    },
    {
     "name": "stdout",
     "output_type": "stream",
     "text": [
      "alpha = 33.93221771895328, lambda = 1.0\n"
     ]
    },
    {
     "name": "stdout",
     "output_type": "stream",
     "text": [
      "alpha = 40.94915062380425, lambda = 1.0\n"
     ]
    },
    {
     "name": "stdout",
     "output_type": "stream",
     "text": [
      "alpha = 49.417133613238356, lambda = 1.0\n"
     ]
    },
    {
     "name": "stdout",
     "output_type": "stream",
     "text": [
      "alpha = 59.63623316594643, lambda = 1.0\n"
     ]
    },
    {
     "name": "stdout",
     "output_type": "stream",
     "text": [
      "alpha = 71.96856730011521, lambda = 1.0\n"
     ]
    },
    {
     "name": "stdout",
     "output_type": "stream",
     "text": [
      "alpha = 86.85113737513525, lambda = 1.0\n"
     ]
    },
    {
     "name": "stdout",
     "output_type": "stream",
     "text": [
      "alpha = 104.81131341546852, lambda = 1.0\n"
     ]
    },
    {
     "name": "stdout",
     "output_type": "stream",
     "text": [
      "alpha = 126.48552168552958, lambda = 1.0\n"
     ]
    },
    {
     "name": "stdout",
     "output_type": "stream",
     "text": [
      "alpha = 152.64179671752333, lambda = 1.0\n"
     ]
    },
    {
     "name": "stdout",
     "output_type": "stream",
     "text": [
      "alpha = 184.20699693267164, lambda = 1.0\n"
     ]
    },
    {
     "name": "stdout",
     "output_type": "stream",
     "text": [
      "alpha = 222.29964825261956, lambda = 1.0\n"
     ]
    },
    {
     "name": "stdout",
     "output_type": "stream",
     "text": [
      "alpha = 268.26957952797244, lambda = 1.0\n"
     ]
    },
    {
     "name": "stdout",
     "output_type": "stream",
     "text": [
      "alpha = 323.74575428176433, lambda = 1.0\n"
     ]
    },
    {
     "name": "stdout",
     "output_type": "stream",
     "text": [
      "alpha = 390.6939937054617, lambda = 1.0\n"
     ]
    },
    {
     "name": "stdout",
     "output_type": "stream",
     "text": [
      "alpha = 471.48663634573944, lambda = 1.0\n"
     ]
    },
    {
     "name": "stdout",
     "output_type": "stream",
     "text": [
      "alpha = 568.9866029018299, lambda = 1.0\n"
     ]
    },
    {
     "name": "stdout",
     "output_type": "stream",
     "text": [
      "alpha = 686.6488450042998, lambda = 1.0\n"
     ]
    },
    {
     "name": "stdout",
     "output_type": "stream",
     "text": [
      "alpha = 828.6427728546843, lambda = 1.0\n"
     ]
    },
    {
     "name": "stdout",
     "output_type": "stream",
     "text": [
      "alpha = 1000.0, lambda = 1.0\n"
     ]
    }
   ],
   "source": [
    "bootstrap_full_overlaps    = []\n",
    "bootstrap_full_hat_overlaps    = []\n",
    "\n",
    "for alpha in alpha_range\n",
    "    println(\"alpha = $alpha, lambda = $lambda\")\n",
    "    \n",
    "    ov, hat_ov = state_evolution(\n",
    "        Logistic(; α=alpha, λ=lambda),\n",
    "        FullResampling(),\n",
    "        PairBootstrap(; p_max=10)\n",
    "        ;\n",
    "        rtol=1e-4,\n",
    "        max_iteration=100,\n",
    "        show_progress=false\n",
    "    )\n",
    "    push!(bootstrap_full_overlaps, ov)\n",
    "    push!(bootstrap_full_hat_overlaps, hat_ov)\n",
    "end"
   ]
  },
  {
   "cell_type": "code",
   "execution_count": 31,
   "metadata": {},
   "outputs": [
    {
     "data": {
      "text/plain": [
       "8689"
      ]
     },
     "metadata": {},
     "output_type": "display_data"
    }
   ],
   "source": [
    "# save the overlaps into a file\n",
    "filename = \"data/logistic/bootstrap_full_overlaps_lambda=$lambda.json\"\n",
    "\n",
    "dict_to_save = Dict(\"alpha\" => alpha_range,\n",
    "                          \"m\"   => [o.m[1] for o in bootstrap_full_overlaps],\n",
    "                          \"q_diag\"   => [o.Q[1, 1] for o in bootstrap_full_overlaps],\n",
    "                          \"q_off_diag\"   => [o.Q[1, 2] for o in bootstrap_full_overlaps],\n",
    "                          \"v\"   => [o.V[1] for o in bootstrap_full_overlaps],\n",
    "                          \n",
    "                          \"mhat\"=> [o.m[1] for o in bootstrap_full_hat_overlaps],\n",
    "                          \"qhat_diag\"=> [o.Q[1, 1] for o in bootstrap_full_hat_overlaps],\n",
    "                          \"qhat_off_diag\"=> [o.Q[1, 2] for o in bootstrap_full_hat_overlaps],\n",
    "                          \"vhat\"=> [o.V[1] for o in bootstrap_full_hat_overlaps],\n",
    "                          )\n",
    "\n",
    "open(filename, \"w\") do f\n",
    "    write(f, JSON.json(dict_to_save))\n",
    "end"
   ]
  },
  {
   "cell_type": "markdown",
   "metadata": {},
   "source": [
    "--- \n",
    "\n",
    "Compute the correlation between two resample of the full dataset"
   ]
  },
  {
   "cell_type": "code",
   "execution_count": 32,
   "metadata": {},
   "outputs": [
    {
     "name": "stdout",
     "output_type": "stream",
     "text": [
      "alpha = 0.1, lambda = 1.0\n"
     ]
    },
    {
     "name": "stdout",
     "output_type": "stream",
     "text": [
      "alpha = 0.12067926406393285, lambda = 1.0\n",
      "alpha = 0.14563484775012436, lambda = 1.0\n",
      "alpha = 0.1757510624854792, lambda = 1.0\n"
     ]
    },
    {
     "name": "stdout",
     "output_type": "stream",
     "text": [
      "alpha = 0.2120950887920191, lambda = 1.0\n",
      "alpha = 0.2559547922699536, lambda = 1.0\n",
      "alpha = 0.3088843596477481, lambda = 1.0\n"
     ]
    },
    {
     "name": "stdout",
     "output_type": "stream",
     "text": [
      "alpha = 0.37275937203149406, lambda = 1.0\n",
      "alpha = 0.4498432668969446, lambda = 1.0\n",
      "alpha = 0.542867543932386, lambda = 1.0\n"
     ]
    },
    {
     "name": "stdout",
     "output_type": "stream",
     "text": [
      "alpha = 0.6551285568595508, lambda = 1.0\n",
      "alpha = 0.79060432109077, lambda = 1.0\n",
      "alpha = 0.9540954763499939, lambda = 1.0\n"
     ]
    },
    {
     "name": "stdout",
     "output_type": "stream",
     "text": [
      "alpha = 1.1513953993264474, lambda = 1.0\n",
      "alpha = 1.3894954943731377, lambda = 1.0\n",
      "alpha = 1.6768329368110082, lambda = 1.0\n"
     ]
    },
    {
     "name": "stdout",
     "output_type": "stream",
     "text": [
      "alpha = 2.023589647725157, lambda = 1.0\n",
      "alpha = 2.442053094548651, lambda = 1.0\n",
      "alpha = 2.947051702551811, lambda = 1.0\n"
     ]
    },
    {
     "name": "stdout",
     "output_type": "stream",
     "text": [
      "alpha = 3.5564803062231287, lambda = 1.0\n",
      "alpha = 4.291934260128778, lambda = 1.0\n",
      "alpha = 5.179474679231212, lambda = 1.0\n"
     ]
    },
    {
     "name": "stdout",
     "output_type": "stream",
     "text": [
      "alpha = 6.250551925273973, lambda = 1.0\n",
      "alpha = 7.543120063354617, lambda = 1.0\n",
      "alpha = 9.102981779915218, lambda = 1.0\n"
     ]
    },
    {
     "name": "stdout",
     "output_type": "stream",
     "text": [
      "alpha = 10.985411419875584, lambda = 1.0\n",
      "alpha = 13.257113655901088, lambda = 1.0\n"
     ]
    },
    {
     "name": "stdout",
     "output_type": "stream",
     "text": [
      "alpha = 15.998587196060582, lambda = 1.0\n",
      "alpha = 19.306977288832506, lambda = 1.0\n"
     ]
    },
    {
     "name": "stdout",
     "output_type": "stream",
     "text": [
      "alpha = 23.29951810515372, lambda = 1.0\n",
      "alpha = 28.11768697974231, lambda = 1.0\n"
     ]
    },
    {
     "name": "stdout",
     "output_type": "stream",
     "text": [
      "alpha = 33.93221771895328, lambda = 1.0\n",
      "alpha = 40.94915062380425, lambda = 1.0\n"
     ]
    },
    {
     "name": "stdout",
     "output_type": "stream",
     "text": [
      "alpha = 49.417133613238356, lambda = 1.0\n",
      "alpha = 59.63623316594643, lambda = 1.0\n"
     ]
    },
    {
     "name": "stdout",
     "output_type": "stream",
     "text": [
      "alpha = 71.96856730011521, lambda = 1.0\n",
      "alpha = 86.85113737513525, lambda = 1.0\n"
     ]
    },
    {
     "name": "stdout",
     "output_type": "stream",
     "text": [
      "alpha = 104.81131341546852, lambda = 1.0\n",
      "alpha = 126.48552168552958, lambda = 1.0\n"
     ]
    },
    {
     "name": "stdout",
     "output_type": "stream",
     "text": [
      "alpha = 152.64179671752333, lambda = 1.0\n",
      "alpha = 184.20699693267164, lambda = 1.0\n"
     ]
    },
    {
     "name": "stdout",
     "output_type": "stream",
     "text": [
      "alpha = 222.29964825261956, lambda = 1.0\n",
      "alpha = 268.26957952797244, lambda = 1.0\n"
     ]
    },
    {
     "name": "stdout",
     "output_type": "stream",
     "text": [
      "alpha = 323.74575428176433, lambda = 1.0\n",
      "alpha = 390.6939937054617, lambda = 1.0\n"
     ]
    },
    {
     "name": "stdout",
     "output_type": "stream",
     "text": [
      "alpha = 471.48663634573944, lambda = 1.0\n",
      "alpha = 568.9866029018299, lambda = 1.0\n"
     ]
    },
    {
     "name": "stdout",
     "output_type": "stream",
     "text": [
      "alpha = 686.6488450042998, lambda = 1.0\n",
      "alpha = 828.6427728546843, lambda = 1.0\n"
     ]
    },
    {
     "name": "stdout",
     "output_type": "stream",
     "text": [
      "alpha = 1000.0, lambda = 1.0\n"
     ]
    }
   ],
   "source": [
    "full_full_overlaps    = []\n",
    "full_full_hat_overlaps    = []\n",
    "\n",
    "for alpha in alpha_range\n",
    "    println(\"alpha = $alpha, lambda = $lambda\")\n",
    "    ov, hat_ov = state_evolution(\n",
    "        Logistic(; α=alpha, λ=lambda),\n",
    "        FullResampling(),\n",
    "        FullResampling();\n",
    "        rtol=1e-3,\n",
    "        max_iteration=100,\n",
    "        show_progress=false\n",
    "    )\n",
    "    push!(full_full_overlaps, ov)\n",
    "    push!(full_full_hat_overlaps, hat_ov)\n",
    "end"
   ]
  },
  {
   "cell_type": "code",
   "execution_count": 33,
   "metadata": {},
   "outputs": [
    {
     "data": {
      "text/plain": [
       "7962"
      ]
     },
     "metadata": {},
     "output_type": "display_data"
    }
   ],
   "source": [
    "# save the overlaps into a file\n",
    "filename = \"data/logistic/full_full_overlaps_lambda=$lambda.json\"\n",
    "\n",
    "dict_to_save = Dict(\"alpha\" => alpha_range,\n",
    "                          \"m\"   => [o.m[1] for o in full_full_overlaps],\n",
    "                          \"q_diag\"   => [o.Q[1, 1] for o in full_full_overlaps],\n",
    "                          \"q_off_diag\"   => [o.Q[1, 2] for o in full_full_overlaps],\n",
    "                          \"v\"   => [o.V[1] for o in full_full_overlaps],\n",
    "                          \n",
    "                          \"mhat\"=> [o.m[1] for o in full_full_hat_overlaps],\n",
    "                          \"qhat_diag\"=> [o.Q[1, 1] for o in full_full_hat_overlaps],\n",
    "                          \"qhat_off_diag\"=> [o.Q[1, 2] for o in full_full_hat_overlaps],\n",
    "                          \"vhat\"=> [o.V[1] for o in full_full_hat_overlaps],\n",
    "                          )\n",
    "\n",
    "open(filename, \"w\") do f\n",
    "    write(f, JSON.json(dict_to_save))\n",
    "end"
   ]
  },
  {
   "cell_type": "markdown",
   "metadata": {},
   "source": [
    "--- \n",
    "\n",
    "Overlaps between two $y$ resampling "
   ]
  },
  {
   "cell_type": "code",
   "execution_count": 34,
   "metadata": {},
   "outputs": [
    {
     "name": "stdout",
     "output_type": "stream",
     "text": [
      "alpha = 0.1, lambda = 1.0\n"
     ]
    },
    {
     "name": "stdout",
     "output_type": "stream",
     "text": [
      "alpha = 0.12067926406393285, lambda = 1.0\n",
      "alpha = 0.14563484775012436, lambda = 1.0\n"
     ]
    },
    {
     "name": "stdout",
     "output_type": "stream",
     "text": [
      "alpha = 0.1757510624854792, lambda = 1.0\n",
      "alpha = 0.2120950887920191, lambda = 1.0\n"
     ]
    },
    {
     "name": "stdout",
     "output_type": "stream",
     "text": [
      "alpha = 0.2559547922699536, lambda = 1.0\n",
      "alpha = 0.3088843596477481, lambda = 1.0\n"
     ]
    },
    {
     "name": "stdout",
     "output_type": "stream",
     "text": [
      "alpha = 0.37275937203149406, lambda = 1.0\n",
      "alpha = 0.4498432668969446, lambda = 1.0\n"
     ]
    },
    {
     "name": "stdout",
     "output_type": "stream",
     "text": [
      "alpha = 0.542867543932386, lambda = 1.0\n",
      "alpha = 0.6551285568595508, lambda = 1.0\n"
     ]
    },
    {
     "name": "stdout",
     "output_type": "stream",
     "text": [
      "alpha = 0.79060432109077, lambda = 1.0\n",
      "alpha = 0.9540954763499939, lambda = 1.0\n"
     ]
    },
    {
     "name": "stdout",
     "output_type": "stream",
     "text": [
      "alpha = 1.1513953993264474, lambda = 1.0\n",
      "alpha = 1.3894954943731377, lambda = 1.0\n"
     ]
    },
    {
     "name": "stdout",
     "output_type": "stream",
     "text": [
      "alpha = 1.6768329368110082, lambda = 1.0\n",
      "alpha = 2.023589647725157, lambda = 1.0\n"
     ]
    },
    {
     "name": "stdout",
     "output_type": "stream",
     "text": [
      "alpha = 2.442053094548651, lambda = 1.0\n",
      "alpha = 2.947051702551811, lambda = 1.0\n"
     ]
    },
    {
     "name": "stdout",
     "output_type": "stream",
     "text": [
      "alpha = 3.5564803062231287, lambda = 1.0\n",
      "alpha = 4.291934260128778, lambda = 1.0\n"
     ]
    },
    {
     "name": "stdout",
     "output_type": "stream",
     "text": [
      "alpha = 5.179474679231212, lambda = 1.0\n",
      "alpha = 6.250551925273973, lambda = 1.0\n"
     ]
    },
    {
     "name": "stdout",
     "output_type": "stream",
     "text": [
      "alpha = 7.543120063354617, lambda = 1.0\n",
      "alpha = 9.102981779915218, lambda = 1.0\n"
     ]
    },
    {
     "name": "stdout",
     "output_type": "stream",
     "text": [
      "alpha = 10.985411419875584, lambda = 1.0\n",
      "alpha = 13.257113655901088, lambda = 1.0\n"
     ]
    },
    {
     "name": "stdout",
     "output_type": "stream",
     "text": [
      "alpha = 15.998587196060582, lambda = 1.0\n"
     ]
    },
    {
     "name": "stdout",
     "output_type": "stream",
     "text": [
      "alpha = 19.306977288832506, lambda = 1.0\n"
     ]
    },
    {
     "name": "stdout",
     "output_type": "stream",
     "text": [
      "alpha = 23.29951810515372, lambda = 1.0\n"
     ]
    },
    {
     "name": "stdout",
     "output_type": "stream",
     "text": [
      "alpha = 28.11768697974231, lambda = 1.0\n"
     ]
    },
    {
     "name": "stdout",
     "output_type": "stream",
     "text": [
      "alpha = 33.93221771895328, lambda = 1.0\n"
     ]
    },
    {
     "name": "stdout",
     "output_type": "stream",
     "text": [
      "alpha = 40.94915062380425, lambda = 1.0\n"
     ]
    },
    {
     "name": "stdout",
     "output_type": "stream",
     "text": [
      "alpha = 49.417133613238356, lambda = 1.0\n"
     ]
    },
    {
     "name": "stdout",
     "output_type": "stream",
     "text": [
      "alpha = 59.63623316594643, lambda = 1.0\n"
     ]
    },
    {
     "name": "stdout",
     "output_type": "stream",
     "text": [
      "alpha = 71.96856730011521, lambda = 1.0\n"
     ]
    },
    {
     "name": "stdout",
     "output_type": "stream",
     "text": [
      "alpha = 86.85113737513525, lambda = 1.0\n"
     ]
    },
    {
     "name": "stdout",
     "output_type": "stream",
     "text": [
      "alpha = 104.81131341546852, lambda = 1.0\n"
     ]
    },
    {
     "name": "stdout",
     "output_type": "stream",
     "text": [
      "alpha = 126.48552168552958, lambda = 1.0\n"
     ]
    },
    {
     "name": "stdout",
     "output_type": "stream",
     "text": [
      "alpha = 152.64179671752333, lambda = 1.0\n"
     ]
    },
    {
     "name": "stdout",
     "output_type": "stream",
     "text": [
      "alpha = 184.20699693267164, lambda = 1.0\n"
     ]
    },
    {
     "name": "stdout",
     "output_type": "stream",
     "text": [
      "alpha = 222.29964825261956, lambda = 1.0\n"
     ]
    },
    {
     "name": "stdout",
     "output_type": "stream",
     "text": [
      "alpha = 268.26957952797244, lambda = 1.0\n"
     ]
    },
    {
     "name": "stdout",
     "output_type": "stream",
     "text": [
      "alpha = 323.74575428176433, lambda = 1.0\n"
     ]
    },
    {
     "name": "stdout",
     "output_type": "stream",
     "text": [
      "alpha = 390.6939937054617, lambda = 1.0\n"
     ]
    },
    {
     "name": "stdout",
     "output_type": "stream",
     "text": [
      "alpha = 471.48663634573944, lambda = 1.0\n"
     ]
    },
    {
     "name": "stdout",
     "output_type": "stream",
     "text": [
      "alpha = 568.9866029018299, lambda = 1.0\n"
     ]
    },
    {
     "name": "stdout",
     "output_type": "stream",
     "text": [
      "alpha = 686.6488450042998, lambda = 1.0\n"
     ]
    },
    {
     "name": "stdout",
     "output_type": "stream",
     "text": [
      "alpha = 828.6427728546843, lambda = 1.0\n"
     ]
    },
    {
     "name": "stdout",
     "output_type": "stream",
     "text": [
      "alpha = 1000.0, lambda = 1.0\n"
     ]
    }
   ],
   "source": [
    "lr_lr_overlaps    = []\n",
    "lr_lr_hat_overlaps    = []\n",
    "\n",
    "for alpha in alpha_range\n",
    "    println(\"alpha = $alpha, lambda = $lambda\")\n",
    "    ov, hat_ov = state_evolution(\n",
    "        Logistic(; α=alpha, λ=lambda),\n",
    "        LabelResampling(),\n",
    "        LabelResampling();\n",
    "        rtol=1e-3,\n",
    "        max_iteration=100,\n",
    "        show_progress=false\n",
    "    )\n",
    "    push!(lr_lr_overlaps, ov)\n",
    "    push!(lr_lr_hat_overlaps, hat_ov)\n",
    "end"
   ]
  },
  {
   "cell_type": "code",
   "execution_count": 35,
   "metadata": {},
   "outputs": [
    {
     "data": {
      "text/plain": [
       "8781"
      ]
     },
     "metadata": {},
     "output_type": "display_data"
    }
   ],
   "source": [
    "# save the overlaps into a file\n",
    "filename = \"data/logistic/y_resampling_overlaps_lambda=$lambda.json\"\n",
    "\n",
    "dict_to_save = Dict(\"alpha\" => alpha_range,\n",
    "                          \"m\"   => [o.m[1] for o in lr_lr_overlaps],\n",
    "                          \"q_diag\"   => [o.Q[1, 1] for o in lr_lr_overlaps],\n",
    "                          \"q_off_diag\"   => [o.Q[1, 2] for o in lr_lr_overlaps],\n",
    "                          \"v\"   => [o.V[1] for o in lr_lr_overlaps],\n",
    "                          \n",
    "                          \"mhat\"=> [o.m[1] for o in lr_lr_hat_overlaps],\n",
    "                          \"qhat_diag\"=> [o.Q[1, 1] for o in lr_lr_hat_overlaps],\n",
    "                          \"qhat_off_diag\"=> [o.Q[1, 2] for o in lr_lr_hat_overlaps],\n",
    "                          \"vhat\"=> [o.V[1] for o in lr_lr_hat_overlaps],\n",
    "                          )\n",
    "\n",
    "open(filename, \"w\") do f\n",
    "    write(f, JSON.json(dict_to_save))\n",
    "end"
   ]
  },
  {
   "cell_type": "markdown",
   "metadata": {},
   "source": [
    "---\n",
    "\n",
    "# \"Residual\" bootstrap for logistic regression\n",
    "\n",
    "Here, we first train the model then we resample the labels according to the logistic model using $\\hat w$ as teacher weight, then retrain our models.\n",
    "So we just run SE for ERM, compute $q$ and then compute the y_resampling with $\\rho = q$"
   ]
  },
  {
   "cell_type": "code",
   "execution_count": 36,
   "metadata": {},
   "outputs": [
    {
     "name": "stdout",
     "output_type": "stream",
     "text": [
      "alpha = 0.1, lambda = 1.0\n"
     ]
    },
    {
     "name": "stdout",
     "output_type": "stream",
     "text": [
      "alpha = 0.12067926406393285, lambda = 1.0\n"
     ]
    },
    {
     "name": "stdout",
     "output_type": "stream",
     "text": [
      "alpha = 0.14563484775012436, lambda = 1.0\n"
     ]
    },
    {
     "name": "stdout",
     "output_type": "stream",
     "text": [
      "alpha = 0.1757510624854792, lambda = 1.0\n"
     ]
    },
    {
     "name": "stdout",
     "output_type": "stream",
     "text": [
      "alpha = 0.2120950887920191, lambda = 1.0\n"
     ]
    },
    {
     "name": "stdout",
     "output_type": "stream",
     "text": [
      "alpha = 0.2559547922699536, lambda = 1.0\n"
     ]
    },
    {
     "name": "stdout",
     "output_type": "stream",
     "text": [
      "alpha = 0.3088843596477481, lambda = 1.0\n"
     ]
    },
    {
     "name": "stdout",
     "output_type": "stream",
     "text": [
      "alpha = 0.37275937203149406, lambda = 1.0\n"
     ]
    },
    {
     "name": "stdout",
     "output_type": "stream",
     "text": [
      "alpha = 0.4498432668969446, lambda = 1.0\n"
     ]
    },
    {
     "name": "stdout",
     "output_type": "stream",
     "text": [
      "alpha = 0.542867543932386, lambda = 1.0\n"
     ]
    },
    {
     "name": "stdout",
     "output_type": "stream",
     "text": [
      "alpha = 0.6551285568595508, lambda = 1.0\n"
     ]
    },
    {
     "name": "stdout",
     "output_type": "stream",
     "text": [
      "alpha = 0.79060432109077, lambda = 1.0\n"
     ]
    },
    {
     "name": "stdout",
     "output_type": "stream",
     "text": [
      "alpha = 0.9540954763499939, lambda = 1.0\n"
     ]
    },
    {
     "name": "stdout",
     "output_type": "stream",
     "text": [
      "alpha = 1.1513953993264474, lambda = 1.0\n"
     ]
    },
    {
     "name": "stdout",
     "output_type": "stream",
     "text": [
      "alpha = 1.3894954943731377, lambda = 1.0\n"
     ]
    },
    {
     "name": "stdout",
     "output_type": "stream",
     "text": [
      "alpha = 1.6768329368110082, lambda = 1.0\n"
     ]
    },
    {
     "name": "stdout",
     "output_type": "stream",
     "text": [
      "alpha = 2.023589647725157, lambda = 1.0\n"
     ]
    },
    {
     "name": "stdout",
     "output_type": "stream",
     "text": [
      "alpha = 2.442053094548651, lambda = 1.0\n"
     ]
    },
    {
     "name": "stdout",
     "output_type": "stream",
     "text": [
      "alpha = 2.947051702551811, lambda = 1.0\n"
     ]
    },
    {
     "name": "stdout",
     "output_type": "stream",
     "text": [
      "alpha = 3.5564803062231287, lambda = 1.0\n"
     ]
    },
    {
     "name": "stdout",
     "output_type": "stream",
     "text": [
      "alpha = 4.291934260128778, lambda = 1.0\n"
     ]
    },
    {
     "name": "stdout",
     "output_type": "stream",
     "text": [
      "alpha = 5.179474679231212, lambda = 1.0\n"
     ]
    },
    {
     "name": "stdout",
     "output_type": "stream",
     "text": [
      "alpha = 6.250551925273973, lambda = 1.0\n"
     ]
    },
    {
     "name": "stdout",
     "output_type": "stream",
     "text": [
      "alpha = 7.543120063354617, lambda = 1.0\n"
     ]
    },
    {
     "name": "stdout",
     "output_type": "stream",
     "text": [
      "alpha = 9.102981779915218, lambda = 1.0\n"
     ]
    },
    {
     "name": "stdout",
     "output_type": "stream",
     "text": [
      "alpha = 10.985411419875584, lambda = 1.0\n"
     ]
    },
    {
     "name": "stdout",
     "output_type": "stream",
     "text": [
      "alpha = 13.257113655901088, lambda = 1.0\n"
     ]
    },
    {
     "name": "stdout",
     "output_type": "stream",
     "text": [
      "alpha = 15.998587196060582, lambda = 1.0\n"
     ]
    },
    {
     "name": "stdout",
     "output_type": "stream",
     "text": [
      "alpha = 19.306977288832506, lambda = 1.0\n"
     ]
    },
    {
     "name": "stdout",
     "output_type": "stream",
     "text": [
      "alpha = 23.29951810515372, lambda = 1.0\n"
     ]
    },
    {
     "name": "stdout",
     "output_type": "stream",
     "text": [
      "alpha = 28.11768697974231, lambda = 1.0\n"
     ]
    },
    {
     "name": "stdout",
     "output_type": "stream",
     "text": [
      "alpha = 33.93221771895328, lambda = 1.0\n"
     ]
    },
    {
     "name": "stdout",
     "output_type": "stream",
     "text": [
      "alpha = 40.94915062380425, lambda = 1.0\n"
     ]
    },
    {
     "name": "stdout",
     "output_type": "stream",
     "text": [
      "alpha = 49.417133613238356, lambda = 1.0\n"
     ]
    },
    {
     "name": "stdout",
     "output_type": "stream",
     "text": [
      "alpha = 59.63623316594643, lambda = 1.0\n"
     ]
    },
    {
     "name": "stdout",
     "output_type": "stream",
     "text": [
      "alpha = 71.96856730011521, lambda = 1.0\n"
     ]
    },
    {
     "name": "stdout",
     "output_type": "stream",
     "text": [
      "alpha = 86.85113737513525, lambda = 1.0\n"
     ]
    },
    {
     "name": "stdout",
     "output_type": "stream",
     "text": [
      "alpha = 104.81131341546852, lambda = 1.0\n"
     ]
    },
    {
     "name": "stdout",
     "output_type": "stream",
     "text": [
      "alpha = 126.48552168552958, lambda = 1.0\n"
     ]
    },
    {
     "name": "stdout",
     "output_type": "stream",
     "text": [
      "alpha = 152.64179671752333, lambda = 1.0\n"
     ]
    },
    {
     "name": "stdout",
     "output_type": "stream",
     "text": [
      "alpha = 184.20699693267164, lambda = 1.0\n"
     ]
    },
    {
     "name": "stdout",
     "output_type": "stream",
     "text": [
      "alpha = 222.29964825261956, lambda = 1.0\n"
     ]
    },
    {
     "name": "stdout",
     "output_type": "stream",
     "text": [
      "alpha = 268.26957952797244, lambda = 1.0\n"
     ]
    },
    {
     "name": "stdout",
     "output_type": "stream",
     "text": [
      "alpha = 323.74575428176433, lambda = 1.0\n"
     ]
    },
    {
     "name": "stdout",
     "output_type": "stream",
     "text": [
      "alpha = 390.6939937054617, lambda = 1.0\n"
     ]
    },
    {
     "name": "stdout",
     "output_type": "stream",
     "text": [
      "alpha = 471.48663634573944, lambda = 1.0\n"
     ]
    },
    {
     "name": "stdout",
     "output_type": "stream",
     "text": [
      "alpha = 568.9866029018299, lambda = 1.0\n"
     ]
    },
    {
     "name": "stdout",
     "output_type": "stream",
     "text": [
      "alpha = 686.6488450042998, lambda = 1.0\n"
     ]
    },
    {
     "name": "stdout",
     "output_type": "stream",
     "text": [
      "alpha = 828.6427728546843, lambda = 1.0\n"
     ]
    },
    {
     "name": "stdout",
     "output_type": "stream",
     "text": [
      "alpha = 1000.0, lambda = 1.0\n"
     ]
    }
   ],
   "source": [
    "erm_overlaps      = []\n",
    "residual_overlaps = []\n",
    "\n",
    "for alpha in alpha_range\n",
    "    println(\"alpha = $alpha, lambda = $lambda\")\n",
    "    ov_erm, _ = state_evolution(Logistic(; α=alpha, λ=lambda), FullResampling(), FullResampling(), rtol=1e-3, max_iteration=100, show_progress=false)\n",
    "    push!(erm_overlaps, ov_erm)\n",
    "    ov, hat_ov = state_evolution(\n",
    "        Logistic(ρ=ov_erm.Q[1, 1]; α=alpha, λ=lambda),\n",
    "        LabelResampling(),\n",
    "        LabelResampling();\n",
    "        rtol=1e-4,\n",
    "        max_iteration=100,\n",
    "        show_progress=false\n",
    "    )\n",
    "    push!(residual_overlaps, ov)\n",
    "end"
   ]
  },
  {
   "cell_type": "code",
   "execution_count": 37,
   "metadata": {},
   "outputs": [
    {
     "data": {
      "text/plain": [
       "6851"
      ]
     },
     "metadata": {},
     "output_type": "display_data"
    }
   ],
   "source": [
    "filename = \"data/logistic/residual_bootstrap_overlaps_lambda=$lambda.json\"\n",
    "\n",
    "to_save = Dict([\n",
    "    \"alpha\" => alpha_range,\n",
    "    \"m_erm\" => [o.m[1] for o in erm_overlaps],\n",
    "    \"q_erm\" => [o.Q[1] for o in erm_overlaps],\n",
    "    \"v_erm\" => [o.V[1] for o in erm_overlaps],\n",
    "    \n",
    "    \"q_diag\" => [o.Q[1, 1] for o in residual_overlaps],\n",
    "    \"q_off_diag\" => [o.Q[1, 2] for o in residual_overlaps],\n",
    "    \"m\" => [o.m[1] for o in residual_overlaps],\n",
    "])\n",
    "\n",
    "\n",
    "open(filename, \"w\") do f\n",
    "    write(f, JSON.json(to_save))\n",
    "end"
   ]
  },
  {
   "cell_type": "markdown",
   "metadata": {},
   "source": [
    "# Subsampling and Jackknife"
   ]
  },
  {
   "cell_type": "code",
   "execution_count": 41,
   "metadata": {},
   "outputs": [
    {
     "name": "stdout",
     "output_type": "stream",
     "text": [
      "alpha = 0.1, lambda = 1.0\n"
     ]
    },
    {
     "name": "stdout",
     "output_type": "stream",
     "text": [
      "alpha = 0.12067926406393285, lambda = 1.0\n"
     ]
    },
    {
     "name": "stdout",
     "output_type": "stream",
     "text": [
      "alpha = 0.14563484775012436, lambda = 1.0\n"
     ]
    },
    {
     "name": "stdout",
     "output_type": "stream",
     "text": [
      "alpha = 0.1757510624854792, lambda = 1.0\n"
     ]
    },
    {
     "name": "stdout",
     "output_type": "stream",
     "text": [
      "alpha = 0.2120950887920191, lambda = 1.0\n"
     ]
    },
    {
     "name": "stdout",
     "output_type": "stream",
     "text": [
      "alpha = 0.2559547922699536, lambda = 1.0\n"
     ]
    },
    {
     "name": "stdout",
     "output_type": "stream",
     "text": [
      "alpha = 0.3088843596477481, lambda = 1.0\n"
     ]
    },
    {
     "name": "stdout",
     "output_type": "stream",
     "text": [
      "alpha = 0.37275937203149406, lambda = 1.0\n"
     ]
    },
    {
     "name": "stdout",
     "output_type": "stream",
     "text": [
      "alpha = 0.4498432668969446, lambda = 1.0\n"
     ]
    },
    {
     "name": "stdout",
     "output_type": "stream",
     "text": [
      "alpha = 0.542867543932386, lambda = 1.0\n"
     ]
    },
    {
     "name": "stdout",
     "output_type": "stream",
     "text": [
      "alpha = 0.6551285568595508, lambda = 1.0\n"
     ]
    },
    {
     "name": "stdout",
     "output_type": "stream",
     "text": [
      "alpha = 0.79060432109077, lambda = 1.0\n"
     ]
    },
    {
     "name": "stdout",
     "output_type": "stream",
     "text": [
      "alpha = 0.9540954763499939, lambda = 1.0\n"
     ]
    },
    {
     "name": "stdout",
     "output_type": "stream",
     "text": [
      "alpha = 1.1513953993264474, lambda = 1.0\n"
     ]
    },
    {
     "name": "stdout",
     "output_type": "stream",
     "text": [
      "alpha = 1.3894954943731377, lambda = 1.0\n"
     ]
    },
    {
     "name": "stdout",
     "output_type": "stream",
     "text": [
      "alpha = 1.6768329368110082, lambda = 1.0\n"
     ]
    },
    {
     "name": "stdout",
     "output_type": "stream",
     "text": [
      "alpha = 2.023589647725157, lambda = 1.0\n"
     ]
    },
    {
     "name": "stdout",
     "output_type": "stream",
     "text": [
      "alpha = 2.442053094548651, lambda = 1.0\n"
     ]
    },
    {
     "name": "stdout",
     "output_type": "stream",
     "text": [
      "alpha = 2.947051702551811, lambda = 1.0\n"
     ]
    },
    {
     "name": "stdout",
     "output_type": "stream",
     "text": [
      "alpha = 3.5564803062231287, lambda = 1.0\n"
     ]
    },
    {
     "name": "stdout",
     "output_type": "stream",
     "text": [
      "alpha = 4.291934260128778, lambda = 1.0\n"
     ]
    },
    {
     "name": "stdout",
     "output_type": "stream",
     "text": [
      "alpha = 5.179474679231212, lambda = 1.0\n"
     ]
    },
    {
     "name": "stdout",
     "output_type": "stream",
     "text": [
      "alpha = 6.250551925273973, lambda = 1.0\n"
     ]
    },
    {
     "name": "stdout",
     "output_type": "stream",
     "text": [
      "alpha = 7.543120063354617, lambda = 1.0\n"
     ]
    },
    {
     "name": "stdout",
     "output_type": "stream",
     "text": [
      "alpha = 9.102981779915218, lambda = 1.0\n"
     ]
    },
    {
     "name": "stdout",
     "output_type": "stream",
     "text": [
      "alpha = 10.985411419875584, lambda = 1.0\n"
     ]
    },
    {
     "name": "stdout",
     "output_type": "stream",
     "text": [
      "alpha = 13.257113655901088, lambda = 1.0\n"
     ]
    },
    {
     "name": "stdout",
     "output_type": "stream",
     "text": [
      "alpha = 15.998587196060582, lambda = 1.0\n"
     ]
    },
    {
     "name": "stdout",
     "output_type": "stream",
     "text": [
      "alpha = 19.306977288832506, lambda = 1.0\n"
     ]
    },
    {
     "name": "stdout",
     "output_type": "stream",
     "text": [
      "alpha = 23.29951810515372, lambda = 1.0\n"
     ]
    },
    {
     "name": "stdout",
     "output_type": "stream",
     "text": [
      "alpha = 28.11768697974231, lambda = 1.0\n"
     ]
    },
    {
     "name": "stdout",
     "output_type": "stream",
     "text": [
      "alpha = 33.93221771895328, lambda = 1.0\n"
     ]
    },
    {
     "name": "stdout",
     "output_type": "stream",
     "text": [
      "alpha = 40.94915062380425, lambda = 1.0\n"
     ]
    },
    {
     "name": "stdout",
     "output_type": "stream",
     "text": [
      "alpha = 49.417133613238356, lambda = 1.0\n"
     ]
    },
    {
     "name": "stdout",
     "output_type": "stream",
     "text": [
      "alpha = 59.63623316594643, lambda = 1.0\n"
     ]
    },
    {
     "name": "stdout",
     "output_type": "stream",
     "text": [
      "alpha = 71.96856730011521, lambda = 1.0\n"
     ]
    },
    {
     "name": "stdout",
     "output_type": "stream",
     "text": [
      "alpha = 86.85113737513525, lambda = 1.0\n"
     ]
    },
    {
     "name": "stdout",
     "output_type": "stream",
     "text": [
      "alpha = 104.81131341546852, lambda = 1.0\n"
     ]
    },
    {
     "name": "stdout",
     "output_type": "stream",
     "text": [
      "alpha = 126.48552168552958, lambda = 1.0\n"
     ]
    },
    {
     "name": "stdout",
     "output_type": "stream",
     "text": [
      "alpha = 152.64179671752333, lambda = 1.0\n"
     ]
    },
    {
     "name": "stdout",
     "output_type": "stream",
     "text": [
      "alpha = 184.20699693267164, lambda = 1.0\n"
     ]
    },
    {
     "name": "stdout",
     "output_type": "stream",
     "text": [
      "alpha = 222.29964825261956, lambda = 1.0\n"
     ]
    },
    {
     "name": "stdout",
     "output_type": "stream",
     "text": [
      "alpha = 268.26957952797244, lambda = 1.0\n"
     ]
    },
    {
     "name": "stdout",
     "output_type": "stream",
     "text": [
      "alpha = 323.74575428176433, lambda = 1.0\n"
     ]
    },
    {
     "name": "stdout",
     "output_type": "stream",
     "text": [
      "alpha = 390.6939937054617, lambda = 1.0\n"
     ]
    },
    {
     "name": "stdout",
     "output_type": "stream",
     "text": [
      "alpha = 471.48663634573944, lambda = 1.0\n"
     ]
    },
    {
     "name": "stdout",
     "output_type": "stream",
     "text": [
      "alpha = 568.9866029018299, lambda = 1.0\n"
     ]
    },
    {
     "name": "stdout",
     "output_type": "stream",
     "text": [
      "alpha = 686.6488450042998, lambda = 1.0\n"
     ]
    },
    {
     "name": "stdout",
     "output_type": "stream",
     "text": [
      "alpha = 828.6427728546843, lambda = 1.0\n"
     ]
    },
    {
     "name": "stdout",
     "output_type": "stream",
     "text": [
      "alpha = 1000.0, lambda = 1.0\n"
     ]
    }
   ],
   "source": [
    "r = 0.99\n",
    "\n",
    "ss_ss_overlaps    = []\n",
    "ss_ss_hat_overlaps    = []\n",
    "\n",
    "for alpha in alpha_range\n",
    "    println(\"alpha = $alpha, lambda = $lambda\")\n",
    "    ov, hat_ov = state_evolution(\n",
    "        Logistic(; α=alpha, λ=lambda),\n",
    "        Subsampling(r = r), \n",
    "        Subsampling(r = r);\n",
    "        rtol=1e-5,\n",
    "        max_iteration=100,\n",
    "        show_progress=false\n",
    "    )\n",
    "    push!(ss_ss_overlaps, ov)\n",
    "    push!(ss_ss_hat_overlaps, hat_ov)\n",
    "end"
   ]
  },
  {
   "cell_type": "code",
   "execution_count": 42,
   "metadata": {},
   "outputs": [
    {
     "data": {
      "text/plain": [
       "8710"
      ]
     },
     "metadata": {},
     "output_type": "display_data"
    }
   ],
   "source": [
    "filename = \"data/logistic/subsampling_subsampling_overlaps_lambda=$(lambda)_p=$(r).json\"\n",
    "\n",
    "\n",
    "dict_to_save = Dict(\"alpha\" => alpha_range,\n",
    "                          \"proba\"         => r,\n",
    "                          \"m\"             => [o.m[1] for o in ss_ss_overlaps],\n",
    "                          \"q_diag\"        => [o.Q[1, 1] for o in ss_ss_overlaps],\n",
    "                          \"q_off_diag\"    => [o.Q[1, 2] for o in ss_ss_overlaps],\n",
    "                          \"v\"             => [o.V[1] for o in ss_ss_overlaps],\n",
    "                          \"mhat\"          => [o.m[1] for o in ss_ss_hat_overlaps],\n",
    "                          \"qhat_diag\"     => [o.Q[1, 1] for o in ss_ss_hat_overlaps],\n",
    "                          \"qhat_off_diag\" => [o.Q[1, 2] for o in ss_ss_hat_overlaps],\n",
    "                          \"vhat\"          => [o.V[1] for o in ss_ss_hat_overlaps],\n",
    "                    )\n",
    "\n",
    "open(filename, \"w\") do f\n",
    "    write(f, JSON.json(dict_to_save))\n",
    "end"
   ]
  },
  {
   "cell_type": "markdown",
   "metadata": {},
   "source": [
    "---\n",
    "\n",
    "# Compute the Bayes-optimal estimator"
   ]
  },
  {
   "cell_type": "code",
   "execution_count": 43,
   "metadata": {},
   "outputs": [],
   "source": [
    "bayes_optimal_q  = fill(0.0, length(alpha_range))\n",
    "for i in eachindex(alpha_range)\n",
    "    alpha = alpha_range[i]\n",
    "    problem = Logistic(; α=alpha, λ=lambda)\n",
    "    res = state_evolution_BayesOpt(problem, rtol=1e-6, max_iteration=100)\n",
    "    bayes_optimal_q[i] = res.q\n",
    "end"
   ]
  },
  {
   "cell_type": "code",
   "execution_count": 44,
   "metadata": {},
   "outputs": [
    {
     "data": {
      "text/plain": [
       "1887"
      ]
     },
     "metadata": {},
     "output_type": "display_data"
    }
   ],
   "source": [
    "filename = \"data/logistic/bayes_optimal_overlaps.json\"\n",
    "\n",
    "dict_to_save = Dict(\"alpha\" => alpha_range,\n",
    "                    \"q\" => bayes_optimal_q\n",
    "                    )\n",
    "\n",
    "open(filename, \"w\") do f\n",
    "    write(f, JSON.json(dict_to_save))\n",
    "end"
   ]
  }
 ],
 "metadata": {
  "kernelspec": {
   "display_name": "Julia 1.10.0",
   "language": "julia",
   "name": "julia-1.10"
  },
  "language_info": {
   "file_extension": ".jl",
   "mimetype": "application/julia",
   "name": "julia",
   "version": "1.10.0"
  }
 },
 "nbformat": 4,
 "nbformat_minor": 2
}

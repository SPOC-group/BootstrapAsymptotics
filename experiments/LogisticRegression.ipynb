{
 "cells": [
  {
   "cell_type": "code",
   "execution_count": 2,
   "metadata": {},
   "outputs": [],
   "source": [
    "using Pkg\n",
    "Pkg.instantiate()"
   ]
  },
  {
   "cell_type": "code",
   "execution_count": 3,
   "metadata": {},
   "outputs": [],
   "source": [
    "using JSON\n",
    "using Plots\n",
    "using ProgressBars\n",
    "\n",
    "using BootstrapAsymptotics"
   ]
  },
  {
   "cell_type": "code",
   "execution_count": 4,
   "metadata": {},
   "outputs": [
    {
     "data": {
      "text/plain": [
       "50"
      ]
     },
     "metadata": {},
     "output_type": "display_data"
    }
   ],
   "source": [
    "alpha_range   = 1.0:1.0:10.0\n",
    "large_alpha   = false\n",
    "\n",
    "# alpha_range    = exp10.(range(-1.0, stop=3.0, length=50))\n",
    "# large_alpha    = true\n",
    "\n",
    "lambda        = 1.0\n",
    "max_iteration = 50"
   ]
  },
  {
   "cell_type": "code",
   "execution_count": 5,
   "metadata": {},
   "outputs": [
    {
     "name": "stdout",
     "output_type": "stream",
     "text": [
      "alpha = 1.0, lambda = 1.0\n"
     ]
    },
    {
     "name": "stdout",
     "output_type": "stream",
     "text": [
      "alpha = 2.0, lambda = 1.0\n"
     ]
    },
    {
     "name": "stdout",
     "output_type": "stream",
     "text": [
      "alpha = 3.0, lambda = 1.0\n"
     ]
    },
    {
     "name": "stdout",
     "output_type": "stream",
     "text": [
      "alpha = 4.0, lambda = 1.0\n"
     ]
    },
    {
     "name": "stdout",
     "output_type": "stream",
     "text": [
      "alpha = 5.0, lambda = 1.0\n"
     ]
    },
    {
     "name": "stdout",
     "output_type": "stream",
     "text": [
      "alpha = 6.0, lambda = 1.0\n"
     ]
    },
    {
     "name": "stdout",
     "output_type": "stream",
     "text": [
      "alpha = 7.0, lambda = 1.0\n"
     ]
    },
    {
     "name": "stdout",
     "output_type": "stream",
     "text": [
      "alpha = 8.0, lambda = 1.0\n"
     ]
    },
    {
     "name": "stdout",
     "output_type": "stream",
     "text": [
      "alpha = 9.0, lambda = 1.0\n"
     ]
    },
    {
     "name": "stdout",
     "output_type": "stream",
     "text": [
      "alpha = 10.0, lambda = 1.0\n"
     ]
    }
   ],
   "source": [
    "bootstrap_bootstrap_overlaps        = []\n",
    "bootstrap_bootstrap_hat_overlaps    = []\n",
    "\n",
    "for alpha in alpha_range\n",
    "    println(\"alpha = $alpha, lambda = $lambda\")\n",
    "    ov, hat_ov = state_evolution(\n",
    "        Logistic(; α=alpha, λ=lambda),\n",
    "        PairBootstrap(; p_max=10),\n",
    "        PairBootstrap(; p_max=10);\n",
    "        rtol=1e-4,\n",
    "        max_iteration=100,\n",
    "        show_progress=false\n",
    "    )\n",
    "    push!(bootstrap_bootstrap_overlaps, ov)\n",
    "    push!(bootstrap_bootstrap_hat_overlaps, hat_ov)\n",
    "end"
   ]
  },
  {
   "cell_type": "code",
   "execution_count": 6,
   "metadata": {},
   "outputs": [
    {
     "data": {
      "text/plain": [
       "1666"
      ]
     },
     "metadata": {},
     "output_type": "display_data"
    }
   ],
   "source": [
    "# save the overlaps into a file\n",
    "if large_alpha == false\n",
    "    filename = \"data/logistic/bootstrap_bootstrap_overlaps_lambda=$lambda.json\"\n",
    "end\n",
    "\n",
    "if large_alpha == true\n",
    "    filename = \"data/logistic/bootstrap_bootstrap_overlaps_large_alpha_lambda=$lambda.json\"\n",
    "end\n",
    "\n",
    "dict_to_save = Dict(\"alpha\" => alpha_range,\n",
    "                    \"m\"   => [o.m[1] for o in bootstrap_bootstrap_overlaps],\n",
    "                    \"q_diag\"   => [o.Q[1, 1] for o in bootstrap_bootstrap_overlaps],\n",
    "                    \"q_off_diag\"   => [o.Q[1, 2] for o in bootstrap_bootstrap_overlaps],\n",
    "                    \"v\"   => [o.V[1] for o in bootstrap_bootstrap_overlaps],\n",
    "\n",
    "                    \"mhat\"=> [o.m[1] for o in bootstrap_bootstrap_hat_overlaps],\n",
    "                    \"qhat_diag\"=> [o.Q[1, 1] for o in bootstrap_bootstrap_hat_overlaps],\n",
    "                    \"qhat_off_diag\"=> [o.Q[1, 2] for o in bootstrap_bootstrap_hat_overlaps],\n",
    "                    \"vhat\"=> [o.V[1] for o in bootstrap_bootstrap_hat_overlaps],\n",
    "                    )\n",
    "\n",
    "open(filename, \"w\") do f\n",
    "    write(f, JSON.json(dict_to_save))\n",
    "end"
   ]
  },
  {
   "cell_type": "markdown",
   "metadata": {},
   "source": [
    "--- \n",
    "\n",
    "Compute the correlation between Bootstrap and ERM on full data"
   ]
  },
  {
   "cell_type": "code",
   "execution_count": 7,
   "metadata": {},
   "outputs": [
    {
     "name": "stdout",
     "output_type": "stream",
     "text": [
      "alpha = 1.0, lambda = 1.0\n"
     ]
    },
    {
     "name": "stdout",
     "output_type": "stream",
     "text": [
      "alpha = 2.0, lambda = 1.0\n"
     ]
    },
    {
     "name": "stdout",
     "output_type": "stream",
     "text": [
      "alpha = 3.0, lambda = 1.0\n"
     ]
    },
    {
     "name": "stdout",
     "output_type": "stream",
     "text": [
      "alpha = 4.0, lambda = 1.0\n"
     ]
    },
    {
     "name": "stdout",
     "output_type": "stream",
     "text": [
      "alpha = 5.0, lambda = 1.0\n"
     ]
    },
    {
     "name": "stdout",
     "output_type": "stream",
     "text": [
      "alpha = 6.0, lambda = 1.0\n"
     ]
    },
    {
     "name": "stdout",
     "output_type": "stream",
     "text": [
      "alpha = 7.0, lambda = 1.0\n"
     ]
    },
    {
     "name": "stdout",
     "output_type": "stream",
     "text": [
      "alpha = 8.0, lambda = 1.0\n"
     ]
    },
    {
     "name": "stdout",
     "output_type": "stream",
     "text": [
      "alpha = 9.0, lambda = 1.0\n"
     ]
    },
    {
     "name": "stdout",
     "output_type": "stream",
     "text": [
      "alpha = 10.0, lambda = 1.0\n"
     ]
    }
   ],
   "source": [
    "bootstrap_full_overlaps    = []\n",
    "bootstrap_full_hat_overlaps    = []\n",
    "\n",
    "for alpha in alpha_range\n",
    "    println(\"alpha = $alpha, lambda = $lambda\")\n",
    "    \n",
    "    ov, hat_ov = state_evolution(\n",
    "        Logistic(; α=alpha, λ=lambda),\n",
    "        FullResampling(),\n",
    "        PairBootstrap(; p_max=10)\n",
    "        ;\n",
    "        rtol=1e-4,\n",
    "        max_iteration=100,\n",
    "        show_progress=false\n",
    "    )\n",
    "    push!(bootstrap_full_overlaps, ov)\n",
    "    push!(bootstrap_full_hat_overlaps, hat_ov)\n",
    "end"
   ]
  },
  {
   "cell_type": "code",
   "execution_count": 8,
   "metadata": {},
   "outputs": [
    {
     "data": {
      "text/plain": [
       "1668"
      ]
     },
     "metadata": {},
     "output_type": "display_data"
    }
   ],
   "source": [
    "# save the overlaps into a file\n",
    "if large_alpha == false\n",
    "    filename = \"data/logistic/bootstrap_full_overlaps_lambda=$lambda.json\"\n",
    "end\n",
    "if large_alpha == true\n",
    "    filename = \"data/logistic/bootstrap_full_overlaps_large_alpha_lambda=$lambda.json\"\n",
    "end\n",
    "\n",
    "dict_to_save = Dict(\"alpha\" => alpha_range,\n",
    "                          \"m\"   => [o.m[1] for o in bootstrap_full_overlaps],\n",
    "                          \"q_diag\"   => [o.Q[1, 1] for o in bootstrap_full_overlaps],\n",
    "                          \"q_off_diag\"   => [o.Q[1, 2] for o in bootstrap_full_overlaps],\n",
    "                          \"v\"   => [o.V[1] for o in bootstrap_full_overlaps],\n",
    "                          \n",
    "                          \"mhat\"=> [o.m[1] for o in bootstrap_full_hat_overlaps],\n",
    "                          \"qhat_diag\"=> [o.Q[1, 1] for o in bootstrap_full_hat_overlaps],\n",
    "                          \"qhat_off_diag\"=> [o.Q[1, 2] for o in bootstrap_full_hat_overlaps],\n",
    "                          \"vhat\"=> [o.V[1] for o in bootstrap_full_hat_overlaps],\n",
    "                          )\n",
    "\n",
    "open(filename, \"w\") do f\n",
    "    write(f, JSON.json(dict_to_save))\n",
    "end"
   ]
  },
  {
   "cell_type": "markdown",
   "metadata": {},
   "source": [
    "--- \n",
    "\n",
    "Compute the correlation between two resample of the full dataset"
   ]
  },
  {
   "cell_type": "code",
   "execution_count": 9,
   "metadata": {},
   "outputs": [
    {
     "name": "stdout",
     "output_type": "stream",
     "text": [
      "alpha = 1.0, lambda = 1.0\n"
     ]
    },
    {
     "name": "stdout",
     "output_type": "stream",
     "text": [
      "alpha = 2.0, lambda = 1.0\n",
      "alpha = 3.0, lambda = 1.0\n",
      "alpha = 4.0, lambda = 1.0\n"
     ]
    },
    {
     "name": "stdout",
     "output_type": "stream",
     "text": [
      "alpha = 5.0, lambda = 1.0\n",
      "alpha = 6.0, lambda = 1.0\n",
      "alpha = 7.0, lambda = 1.0\n"
     ]
    },
    {
     "name": "stdout",
     "output_type": "stream",
     "text": [
      "alpha = 8.0, lambda = 1.0\n",
      "alpha = 9.0, lambda = 1.0\n",
      "alpha = 10.0, lambda = 1.0\n"
     ]
    }
   ],
   "source": [
    "full_full_overlaps    = []\n",
    "full_full_hat_overlaps    = []\n",
    "\n",
    "for alpha in alpha_range\n",
    "    println(\"alpha = $alpha, lambda = $lambda\")\n",
    "    ov, hat_ov = state_evolution(\n",
    "        Logistic(; α=alpha, λ=lambda),\n",
    "        FullResampling(),\n",
    "        FullResampling();\n",
    "        rtol=1e-3,\n",
    "        max_iteration=100,\n",
    "        show_progress=false\n",
    "    )\n",
    "    push!(full_full_overlaps, ov)\n",
    "    push!(full_full_hat_overlaps, hat_ov)\n",
    "end"
   ]
  },
  {
   "cell_type": "code",
   "execution_count": 10,
   "metadata": {},
   "outputs": [
    {
     "data": {
      "text/plain": [
       "1515"
      ]
     },
     "metadata": {},
     "output_type": "display_data"
    }
   ],
   "source": [
    "# save the overlaps into a file\n",
    "if large_alpha == false\n",
    "    filename = \"data/logistic/full_full_overlaps_lambda=$lambda.json\"\n",
    "end\n",
    "if large_alpha == true\n",
    "    filename = \"data/logistic/full_full_overlaps_large_alpha_lambda=$lambda.json\"\n",
    "end\n",
    "\n",
    "dict_to_save = Dict(\"alpha\" => alpha_range,\n",
    "                          \"m\"   => [o.m[1] for o in full_full_overlaps],\n",
    "                          \"q_diag\"   => [o.Q[1, 1] for o in full_full_overlaps],\n",
    "                          \"q_off_diag\"   => [o.Q[1, 2] for o in full_full_overlaps],\n",
    "                          \"v\"   => [o.V[1] for o in full_full_overlaps],\n",
    "                          \n",
    "                          \"mhat\"=> [o.m[1] for o in full_full_hat_overlaps],\n",
    "                          \"qhat_diag\"=> [o.Q[1, 1] for o in full_full_hat_overlaps],\n",
    "                          \"qhat_off_diag\"=> [o.Q[1, 2] for o in full_full_hat_overlaps],\n",
    "                          \"vhat\"=> [o.V[1] for o in full_full_hat_overlaps],\n",
    "                          )\n",
    "\n",
    "open(filename, \"w\") do f\n",
    "    write(f, JSON.json(dict_to_save))\n",
    "end"
   ]
  },
  {
   "cell_type": "markdown",
   "metadata": {},
   "source": [
    "--- \n",
    "\n",
    "Overlaps between two $y$ resampling "
   ]
  },
  {
   "cell_type": "code",
   "execution_count": 11,
   "metadata": {},
   "outputs": [
    {
     "name": "stdout",
     "output_type": "stream",
     "text": [
      "alpha = 1.0, lambda = 1.0\n"
     ]
    },
    {
     "name": "stdout",
     "output_type": "stream",
     "text": [
      "alpha = 2.0, lambda = 1.0\n",
      "alpha = 3.0, lambda = 1.0\n"
     ]
    },
    {
     "name": "stdout",
     "output_type": "stream",
     "text": [
      "alpha = 4.0, lambda = 1.0\n",
      "alpha = 5.0, lambda = 1.0\n"
     ]
    },
    {
     "name": "stdout",
     "output_type": "stream",
     "text": [
      "alpha = 6.0, lambda = 1.0\n",
      "alpha = 7.0, lambda = 1.0\n"
     ]
    },
    {
     "name": "stdout",
     "output_type": "stream",
     "text": [
      "alpha = 8.0, lambda = 1.0\n",
      "alpha = 9.0, lambda = 1.0\n"
     ]
    },
    {
     "name": "stdout",
     "output_type": "stream",
     "text": [
      "alpha = 10.0, lambda = 1.0\n"
     ]
    }
   ],
   "source": [
    "lr_lr_overlaps    = []\n",
    "lr_lr_hat_overlaps    = []\n",
    "\n",
    "for alpha in alpha_range\n",
    "    println(\"alpha = $alpha, lambda = $lambda\")\n",
    "    ov, hat_ov = state_evolution(\n",
    "        Logistic(; α=alpha, λ=lambda),\n",
    "        LabelResampling(),\n",
    "        LabelResampling();\n",
    "        rtol=1e-3,\n",
    "        max_iteration=100,\n",
    "        show_progress=false\n",
    "    )\n",
    "    push!(lr_lr_overlaps, ov)\n",
    "    push!(lr_lr_hat_overlaps, hat_ov)\n",
    "end"
   ]
  },
  {
   "cell_type": "code",
   "execution_count": 12,
   "metadata": {},
   "outputs": [
    {
     "data": {
      "text/plain": [
       "1687"
      ]
     },
     "metadata": {},
     "output_type": "display_data"
    }
   ],
   "source": [
    "# save the overlaps into a file\n",
    "if large_alpha == false\n",
    "    filename = \"data/logistic/y_resampling_overlaps_lambda=$lambda.json\"\n",
    "end\n",
    "if large_alpha == true\n",
    "    filename = \"data/logistic/y_resampling_overlaps_large_alpha_lambda=$lambda.json\"\n",
    "end\n",
    "\n",
    "dict_to_save = Dict(\"alpha\" => alpha_range,\n",
    "                          \"m\"   => [o.m[1] for o in lr_lr_overlaps],\n",
    "                          \"q_diag\"   => [o.Q[1, 1] for o in lr_lr_overlaps],\n",
    "                          \"q_off_diag\"   => [o.Q[1, 2] for o in lr_lr_overlaps],\n",
    "                          \"v\"   => [o.V[1] for o in lr_lr_overlaps],\n",
    "                          \n",
    "                          \"mhat\"=> [o.m[1] for o in lr_lr_hat_overlaps],\n",
    "                          \"qhat_diag\"=> [o.Q[1, 1] for o in lr_lr_hat_overlaps],\n",
    "                          \"qhat_off_diag\"=> [o.Q[1, 2] for o in lr_lr_hat_overlaps],\n",
    "                          \"vhat\"=> [o.V[1] for o in lr_lr_hat_overlaps],\n",
    "                          )\n",
    "\n",
    "open(filename, \"w\") do f\n",
    "    write(f, JSON.json(dict_to_save))\n",
    "end"
   ]
  },
  {
   "cell_type": "markdown",
   "metadata": {},
   "source": [
    "---\n",
    "\n",
    "# \"Residual\" bootstrap for logistic regression\n",
    "\n",
    "Here, we first train the model then we resample the labels according to the logistic model using $\\hat w$ as teacher weight, then retrain our models.\n",
    "So we just run SE for ERM, compute $q$ and then compute the y_resampling with $\\rho = q$"
   ]
  },
  {
   "cell_type": "code",
   "execution_count": 13,
   "metadata": {},
   "outputs": [
    {
     "name": "stdout",
     "output_type": "stream",
     "text": [
      "alpha = 1.0, lambda = 1.0\n"
     ]
    },
    {
     "name": "stdout",
     "output_type": "stream",
     "text": [
      "alpha = 2.0, lambda = 1.0\n"
     ]
    },
    {
     "name": "stdout",
     "output_type": "stream",
     "text": [
      "alpha = 3.0, lambda = 1.0\n"
     ]
    },
    {
     "name": "stdout",
     "output_type": "stream",
     "text": [
      "alpha = 4.0, lambda = 1.0\n"
     ]
    },
    {
     "name": "stdout",
     "output_type": "stream",
     "text": [
      "alpha = 5.0, lambda = 1.0\n"
     ]
    },
    {
     "name": "stdout",
     "output_type": "stream",
     "text": [
      "alpha = 6.0, lambda = 1.0\n"
     ]
    },
    {
     "name": "stdout",
     "output_type": "stream",
     "text": [
      "alpha = 7.0, lambda = 1.0\n"
     ]
    },
    {
     "name": "stdout",
     "output_type": "stream",
     "text": [
      "alpha = 8.0, lambda = 1.0\n"
     ]
    },
    {
     "name": "stdout",
     "output_type": "stream",
     "text": [
      "alpha = 9.0, lambda = 1.0\n"
     ]
    },
    {
     "name": "stdout",
     "output_type": "stream",
     "text": [
      "alpha = 10.0, lambda = 1.0\n"
     ]
    }
   ],
   "source": [
    "erm_overlaps      = []\n",
    "residual_overlaps = []\n",
    "\n",
    "for alpha in alpha_range\n",
    "    println(\"alpha = $alpha, lambda = $lambda\")\n",
    "    ov_erm, _ = state_evolution(Logistic(; α=alpha, λ=lambda), FullResampling(), FullResampling(), rtol=1e-3, max_iteration=100, show_progress=false)\n",
    "    push!(erm_overlaps, ov_erm)\n",
    "    ov, hat_ov = state_evolution(\n",
    "        Logistic(ρ=ov_erm.Q[1, 1]; α=alpha, λ=lambda),\n",
    "        LabelResampling(),\n",
    "        LabelResampling();\n",
    "        rtol=1e-4,\n",
    "        max_iteration=100,\n",
    "        show_progress=false\n",
    "    )\n",
    "    push!(residual_overlaps, ov)\n",
    "end"
   ]
  },
  {
   "cell_type": "code",
   "execution_count": 14,
   "metadata": {},
   "outputs": [
    {
     "data": {
      "text/plain": [
       "1275"
      ]
     },
     "metadata": {},
     "output_type": "display_data"
    }
   ],
   "source": [
    "if large_alpha == false\n",
    "    filename = \"data/logistic/residual_bootstrap_overlaps_lambda=$lambda.json\"\n",
    "else \n",
    "    filename = \"data/logistic/residual_bootstrap_overlaps_large_alpha_lambda=$lambda.json\"\n",
    "end\n",
    "\n",
    "to_save = Dict([\n",
    "    \"alpha\" => alpha_range,\n",
    "    \"m_erm\" => [o.m[1] for o in erm_overlaps],\n",
    "    \"q_erm\" => [o.Q[1] for o in erm_overlaps],\n",
    "    \"v_erm\" => [o.V[1] for o in erm_overlaps],\n",
    "    \n",
    "    \"q_diag\" => [o.Q[1, 1] for o in residual_overlaps],\n",
    "    \"q_off_diag\" => [o.Q[1, 2] for o in residual_overlaps],\n",
    "    \"m\" => [o.m[1] for o in residual_overlaps],\n",
    "])\n",
    "\n",
    "\n",
    "open(filename, \"w\") do f\n",
    "    write(f, JSON.json(to_save))\n",
    "end"
   ]
  },
  {
   "cell_type": "markdown",
   "metadata": {},
   "source": [
    "# Subsampling"
   ]
  },
  {
   "cell_type": "code",
   "execution_count": 15,
   "metadata": {},
   "outputs": [
    {
     "name": "stdout",
     "output_type": "stream",
     "text": [
      "alpha = 1.0, lambda = 1.0\n"
     ]
    },
    {
     "name": "stdout",
     "output_type": "stream",
     "text": [
      "alpha = 2.0, lambda = 1.0\n"
     ]
    },
    {
     "name": "stdout",
     "output_type": "stream",
     "text": [
      "alpha = 3.0, lambda = 1.0\n"
     ]
    },
    {
     "name": "stdout",
     "output_type": "stream",
     "text": [
      "alpha = 4.0, lambda = 1.0\n"
     ]
    },
    {
     "name": "stdout",
     "output_type": "stream",
     "text": [
      "alpha = 5.0, lambda = 1.0\n"
     ]
    },
    {
     "name": "stdout",
     "output_type": "stream",
     "text": [
      "alpha = 6.0, lambda = 1.0\n"
     ]
    },
    {
     "name": "stdout",
     "output_type": "stream",
     "text": [
      "alpha = 7.0, lambda = 1.0\n"
     ]
    },
    {
     "name": "stdout",
     "output_type": "stream",
     "text": [
      "alpha = 8.0, lambda = 1.0\n"
     ]
    },
    {
     "name": "stdout",
     "output_type": "stream",
     "text": [
      "alpha = 9.0, lambda = 1.0\n"
     ]
    },
    {
     "name": "stdout",
     "output_type": "stream",
     "text": [
      "alpha = 10.0, lambda = 1.0\n"
     ]
    }
   ],
   "source": [
    "r = 0.99\n",
    "\n",
    "ss_ss_overlaps    = []\n",
    "ss_ss_hat_overlaps    = []\n",
    "\n",
    "for alpha in alpha_range\n",
    "    println(\"alpha = $alpha, lambda = $lambda\")\n",
    "    ov, hat_ov = state_evolution(\n",
    "        Logistic(; α=alpha, λ=lambda),\n",
    "        Subsampling(r = r), \n",
    "        Subsampling(r = r);\n",
    "        rtol=1e-5,\n",
    "        max_iteration=100,\n",
    "        show_progress=false\n",
    "    )\n",
    "    push!(ss_ss_overlaps, ov)\n",
    "    push!(ss_ss_hat_overlaps, hat_ov)\n",
    "end"
   ]
  },
  {
   "cell_type": "code",
   "execution_count": 16,
   "metadata": {},
   "outputs": [
    {
     "data": {
      "text/plain": [
       "1691"
      ]
     },
     "metadata": {},
     "output_type": "display_data"
    }
   ],
   "source": [
    "if large_alpha == false\n",
    "    filename = \"data/logistic/subsampling_subsampling_overlaps_lambda=$(lambda)_p=$(r).json\"\n",
    "else\n",
    "    filename = \"data/logistic/subsampling_subsampling_overlaps_large_alpha_lambda=$(lambda)_p=$(r).json\"\n",
    "end\n",
    "\n",
    "\n",
    "dict_to_save = Dict(\"alpha\" => alpha_range,\n",
    "                          \"proba\"         => r,\n",
    "                          \"m\"             => [o.m[1] for o in ss_ss_overlaps],\n",
    "                          \"q_diag\"        => [o.Q[1, 1] for o in ss_ss_overlaps],\n",
    "                          \"q_off_diag\"    => [o.Q[1, 2] for o in ss_ss_overlaps],\n",
    "                          \"v\"             => [o.V[1] for o in ss_ss_overlaps],\n",
    "                          \"mhat\"          => [o.m[1] for o in ss_ss_hat_overlaps],\n",
    "                          \"qhat_diag\"     => [o.Q[1, 1] for o in ss_ss_hat_overlaps],\n",
    "                          \"qhat_off_diag\" => [o.Q[1, 2] for o in ss_ss_hat_overlaps],\n",
    "                          \"vhat\"          => [o.V[1] for o in ss_ss_hat_overlaps],\n",
    "                    )\n",
    "\n",
    "open(filename, \"w\") do f\n",
    "    write(f, JSON.json(dict_to_save))\n",
    "end"
   ]
  }
 ],
 "metadata": {
  "kernelspec": {
   "display_name": "Julia 1.10.0",
   "language": "julia",
   "name": "julia-1.10"
  },
  "language_info": {
   "file_extension": ".jl",
   "mimetype": "application/julia",
   "name": "julia",
   "version": "1.10.0"
  }
 },
 "nbformat": 4,
 "nbformat_minor": 2
}

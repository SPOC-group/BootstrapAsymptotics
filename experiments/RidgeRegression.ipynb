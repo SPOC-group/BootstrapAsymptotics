{
 "cells": [
  {
   "cell_type": "markdown",
   "metadata": {},
   "source": [
    "# Notebook to compute the state evolution for ridge regression and different resampling\n",
    "\n",
    "**Pour ridge regression, le lambda optimal est constant a $\\sigma^2$**"
   ]
  },
  {
   "cell_type": "code",
   "execution_count": 1,
   "metadata": {},
   "outputs": [],
   "source": [
    "using Pkg\n",
    "Pkg.instantiate()"
   ]
  },
  {
   "cell_type": "code",
   "execution_count": 3,
   "metadata": {},
   "outputs": [],
   "source": [
    "# using RidgeBootstrapStateEvolution\n",
    "using BootstrapAsymptotics\n",
    "using Plots\n",
    "using JSON\n",
    "using Revise"
   ]
  },
  {
   "cell_type": "code",
   "execution_count": 4,
   "metadata": {},
   "outputs": [
    {
     "data": {
      "text/plain": [
       "10000"
      ]
     },
     "metadata": {},
     "output_type": "display_data"
    }
   ],
   "source": [
    "alpha_range    = exp10.(range(-1.0, stop=3.0, length=50))\n",
    "lambda         = 1.0\n",
    "noise_variance = 1.0\n",
    "max_weight     = 20\n",
    "rtol           = 1e-20\n",
    "max_iteration  = 10000"
   ]
  },
  {
   "cell_type": "code",
   "execution_count": 5,
   "metadata": {},
   "outputs": [],
   "source": [
    "bootstrap_bootstrap_overlaps = []\n",
    "bootstrap_bootstrap_hat_overlaps = []\n",
    "\n",
    "for alpha in alpha_range\n",
    "    problem = Ridge(α = alpha, Δ = noise_variance, ρ = 1.0, λ = lambda)\n",
    "    result = BootstrapAsymptotics.state_evolution(problem, PairBootstrap(p_max = max_weight), PairBootstrap(p_max = max_weight), rtol=rtol, max_iteration=max_iteration)\n",
    "    push!(bootstrap_bootstrap_overlaps, result[1])\n",
    "    push!(bootstrap_bootstrap_hat_overlaps, result[2])\n",
    "end"
   ]
  },
  {
   "cell_type": "code",
   "execution_count": 7,
   "metadata": {},
   "outputs": [
    {
     "data": {
      "text/plain": [
       "8632"
      ]
     },
     "metadata": {},
     "output_type": "display_data"
    }
   ],
   "source": [
    "bootstrap_bootstrap_filename::String = \"data/ridge/ridge_bootstrap_bootstrap_overlaps_lambda=$lambda.json\"\n",
    "\n",
    "dict_to_save::Dict = Dict(\"alpha\" => alpha_range,\n",
    "                          \"m\"   => [o.m[1] for o in bootstrap_bootstrap_overlaps],\n",
    "                          \"q_diag\"   => [o.Q[1, 1] for o in bootstrap_bootstrap_overlaps],\n",
    "                          \"q_off_diag\"   => [o.Q[1, 2] for o in bootstrap_bootstrap_overlaps],\n",
    "                          \"v\"   => [o.V[1] for o in bootstrap_bootstrap_overlaps],\n",
    "                          \"mhat\"=> [o.m[1] for o in bootstrap_bootstrap_hat_overlaps],\n",
    "                          \"qhat_diag\"=> [o.Q[1, 1] for o in bootstrap_bootstrap_hat_overlaps],\n",
    "                          \"qhat_off_diag\"=> [o.Q[1, 2] for o in bootstrap_bootstrap_hat_overlaps],\n",
    "                          \"vhat\"=> [o.V[1] for o in bootstrap_bootstrap_hat_overlaps],\n",
    "                          )\n",
    "open(bootstrap_bootstrap_filename, \"w\") do f\n",
    "    write(f, JSON.json(dict_to_save))\n",
    "end\n",
    "## \n"
   ]
  },
  {
   "cell_type": "code",
   "execution_count": 8,
   "metadata": {},
   "outputs": [],
   "source": [
    "bootstrap_full_overlaps = []\n",
    "bootstrap_full_hat_overlaps = []\n",
    "\n",
    "for alpha in alpha_range\n",
    "    # result = RidgeBootstrapStateEvolution.state_evolution_bootstrap_bootstrap_full(alpha, lambda, noise_variance, max_weight=30, relative_tolerance=1e-20, max_iteration=10000)\n",
    "    problem = Ridge(α = alpha, Δ = noise_variance, ρ = 1.0, λ = lambda)\n",
    "    result = BootstrapAsymptotics.state_evolution(problem, PairBootstrap(p_max = max_weight), FullResampling(), rtol=rtol, max_iteration=max_iteration)\n",
    "    push!(bootstrap_full_overlaps, result[1])\n",
    "    push!(bootstrap_full_hat_overlaps, result[2])\n",
    "end"
   ]
  },
  {
   "cell_type": "code",
   "execution_count": 9,
   "metadata": {},
   "outputs": [
    {
     "data": {
      "text/plain": [
       "2843"
      ]
     },
     "metadata": {},
     "output_type": "display_data"
    }
   ],
   "source": [
    "bootstrap_full_filename::String = \"data/ridge/ridge_bootstrap_full_overlaps_lambda=$lambda.json\"\n",
    "\n",
    "dict_to_save::Dict = Dict(\"alpha\" => alpha_range,\n",
    "                          \"q_off_diag\" => [o.Q[1, 2] for o in bootstrap_full_overlaps],\n",
    "                          \n",
    "                          \"qhat_off_diag\" => [o.Q[1, 2] for o in bootstrap_full_hat_overlaps],\n",
    "                          )\n",
    "\n",
    "open(bootstrap_full_filename, \"w\") do f\n",
    "    write(f, JSON.json(dict_to_save))\n",
    "end"
   ]
  },
  {
   "cell_type": "markdown",
   "metadata": {},
   "source": [
    "---\n",
    "\n",
    "# Do full-full correlation "
   ]
  },
  {
   "cell_type": "code",
   "execution_count": 10,
   "metadata": {},
   "outputs": [],
   "source": [
    "full_full_overlaps = []\n",
    "full_full_hat_overlaps = []\n",
    "\n",
    "for alpha in alpha_range\n",
    "    # result = RidgeBootstrapStateEvolution.state_evolution_bootstrap_bootstrap_full(alpha, lambda, noise_variance, max_weight=30, relative_tolerance=1e-20, max_iteration=10000)\n",
    "    problem = Ridge(α = alpha, Δ = noise_variance, ρ = 1.0, λ = lambda)\n",
    "    result = BootstrapAsymptotics.state_evolution(problem, FullResampling(), FullResampling(), rtol=rtol, max_iteration=max_iteration)\n",
    "    push!(full_full_overlaps, result[1])\n",
    "    push!(full_full_hat_overlaps, result[2])\n",
    "end"
   ]
  },
  {
   "cell_type": "code",
   "execution_count": 11,
   "metadata": {},
   "outputs": [
    {
     "data": {
      "text/plain": [
       "7898"
      ]
     },
     "metadata": {},
     "output_type": "display_data"
    }
   ],
   "source": [
    "filename::String = \"data/ridge/ridge_full_full_overlaps_lambda=$lambda.json\"\n",
    "\n",
    "dict_to_save::Dict = Dict(\"alpha\" => alpha_range,\n",
    "                          \"m\"   => [o.m[1] for o in full_full_overlaps],\n",
    "                          \"q_diag\"   => [o.Q[1, 1] for o in full_full_overlaps],\n",
    "                          \"q_off_diag\"   => [o.Q[1, 2] for o in full_full_overlaps],\n",
    "                          \"v\"   => [o.V[1] for o in full_full_overlaps],\n",
    "                          \"mhat\"=> [o.m[1] for o in full_full_hat_overlaps],\n",
    "                          \"qhat_diag\"=> [o.Q[1, 1] for o in full_full_hat_overlaps],\n",
    "                          \"qhat_off_diag\"=> [o.Q[1, 2] for o in full_full_hat_overlaps],\n",
    "                          \"vhat\"=> [o.V[1] for o in full_full_hat_overlaps],\n",
    "                          )\n",
    "\n",
    "open(filename, \"w\") do f\n",
    "    write(f, JSON.json(dict_to_save))\n",
    "end"
   ]
  },
  {
   "cell_type": "markdown",
   "metadata": {},
   "source": [
    "# y-resampling correlation"
   ]
  },
  {
   "cell_type": "code",
   "execution_count": 12,
   "metadata": {},
   "outputs": [],
   "source": [
    "label_label_overlaps = []\n",
    "label_label_hat_overlaps = []\n",
    "\n",
    "for alpha in alpha_range\n",
    "    problem = Ridge(α = alpha, Δ = noise_variance, ρ = 1.0, λ = lambda)\n",
    "    result = BootstrapAsymptotics.state_evolution(problem, LabelResampling(), LabelResampling(), rtol=rtol, max_iteration=max_iteration)\n",
    "    push!(label_label_overlaps, result[1])\n",
    "    push!(label_label_hat_overlaps, result[2])\n",
    "end"
   ]
  },
  {
   "cell_type": "code",
   "execution_count": 13,
   "metadata": {},
   "outputs": [
    {
     "data": {
      "text/plain": [
       "8703"
      ]
     },
     "metadata": {},
     "output_type": "display_data"
    }
   ],
   "source": [
    "filename::String = \"data/ridge/ridge_label_label_overlaps_lambda=$lambda.json\"\n",
    "\n",
    "\n",
    "dict_to_save::Dict = Dict(\"alpha\" => alpha_range,\n",
    "                          \"m\"   => [o.m[1] for o in label_label_overlaps],\n",
    "                          \"q_diag\"   => [o.Q[1, 1] for o in label_label_overlaps],\n",
    "                          \"q_off_diag\"   => [o.Q[1, 2] for o in label_label_overlaps],\n",
    "                          \"v\"   => [o.V[1] for o in label_label_overlaps],\n",
    "                          \"mhat\"=> [o.m[1] for o in label_label_hat_overlaps],\n",
    "                          \"qhat_diag\"=> [o.Q[1, 1] for o in label_label_hat_overlaps],\n",
    "                          \"qhat_off_diag\"=> [o.Q[1, 2] for o in label_label_hat_overlaps],\n",
    "                          \"vhat\"=> [o.V[1] for o in label_label_hat_overlaps],\n",
    "                          )\n",
    "\n",
    "open(filename, \"w\") do f\n",
    "    write(f, JSON.json(dict_to_save))\n",
    "end"
   ]
  },
  {
   "cell_type": "markdown",
   "metadata": {},
   "source": [
    "---\n",
    "\n",
    "# Parametric residual bootstrap\n",
    "\n",
    "We compute the variance of the residuals, for ridge it's just the training error \n",
    "\n",
    "1) On calcule l'overlap de ridge regression \n",
    "2) On calcule le bootstrap resampling en utilisant $\\rho = q_{\\rm erm}$ et $\\Delta = \\varepsilon_{\\rm train}$"
   ]
  },
  {
   "cell_type": "code",
   "execution_count": 14,
   "metadata": {},
   "outputs": [
    {
     "data": {
      "text/plain": [
       "get_train_error (generic function with 1 method)"
      ]
     },
     "metadata": {},
     "output_type": "display_data"
    }
   ],
   "source": [
    "function get_train_error(m, q, v, noise_variance; rho = 1.0)\n",
    "    return (rho + noise_variance + q - 2.0 * m) / (1+v)^2\n",
    "end"
   ]
  },
  {
   "cell_type": "code",
   "execution_count": 15,
   "metadata": {},
   "outputs": [],
   "source": [
    "erm_overlaps = []\n",
    "residual_residual_overlaps = []\n",
    "residual_residual_hat_overlaps = []\n",
    "train_errors = []\n",
    "\n",
    "for alpha in alpha_range\n",
    "    problem = Ridge(α = alpha, Δ = noise_variance, ρ = 1.0, λ = lambda)\n",
    "    result = BootstrapAsymptotics.state_evolution(problem, FullResampling(), FullResampling(), rtol=rtol, max_iteration=max_iteration)\n",
    "    push!(erm_overlaps, result[1])\n",
    "    train_error = get_train_error(result[1].m[1], result[1].Q[1, 1], result[1].V[1], noise_variance, rho = 1.0)\n",
    "    problem_erm = Ridge(α = alpha, Δ = train_error, ρ = result[1].Q[1, 1], λ = lambda)\n",
    "    result_2 = BootstrapAsymptotics.state_evolution(problem_erm, LabelResampling(), LabelResampling(), rtol=rtol, max_iteration=max_iteration)\n",
    "    push!(residual_residual_overlaps,     result_2[1])\n",
    "    push!(residual_residual_hat_overlaps, result_2[2])\n",
    "end"
   ]
  },
  {
   "cell_type": "code",
   "execution_count": 16,
   "metadata": {},
   "outputs": [
    {
     "data": {
      "text/plain": [
       "3841"
      ]
     },
     "metadata": {},
     "output_type": "display_data"
    }
   ],
   "source": [
    "to_save = Dict([\n",
    "    \"alpha\" => alpha_range,\n",
    "    \"q_diag\" => [o.Q[1, 1] for o in residual_residual_overlaps],\n",
    "    \"q_off_diag\" => [o.Q[1, 2] for o in residual_residual_overlaps],\n",
    "    \"m\" => [o.m[1] for o in residual_residual_overlaps],\n",
    "])\n",
    "\n",
    "filename::String = \"data/ridge/ridge_residual_residual_overlaps_lambda=$lambda.json\"\n",
    "\n",
    "open(filename, \"w\") do f\n",
    "    write(f, JSON.json(to_save))\n",
    "end"
   ]
  },
  {
   "cell_type": "markdown",
   "metadata": {},
   "source": [
    "--- \n",
    "\n",
    "### Subsampling"
   ]
  },
  {
   "cell_type": "code",
   "execution_count": 12,
   "metadata": {},
   "outputs": [],
   "source": [
    "# pick = 0.99 for jacknife\n",
    "proba = 0.8\n",
    "\n",
    "subsampling_subsampling_overlaps = []\n",
    "subsampling_subsampling_hat_overlaps = []\n",
    "\n",
    "for alpha in alpha_range\n",
    "    problem = Ridge(α = alpha, Δ = noise_variance, ρ = 1.0, λ = lambda)\n",
    "    result = BootstrapAsymptotics.state_evolution(problem, Subsampling(r = proba), Subsampling(r = proba), rtol=0.0, max_iteration=100_000)\n",
    "    push!(subsampling_subsampling_overlaps, result[1])\n",
    "    push!(subsampling_subsampling_hat_overlaps, result[2])\n",
    "end"
   ]
  },
  {
   "cell_type": "code",
   "execution_count": 13,
   "metadata": {},
   "outputs": [
    {
     "data": {
      "text/plain": [
       "8647"
      ]
     },
     "metadata": {},
     "output_type": "display_data"
    }
   ],
   "source": [
    "filename::String = \"data/ridge/ridge_subsampling_subsampling_overlaps_lambda=$(lambda)_p=$(proba).json\"\n",
    "\n",
    "\n",
    "dict_to_save::Dict = Dict(\"alpha\" => alpha_range,\n",
    "                          \"proba\" => proba,\n",
    "                          \"m\"   => [o.m[1] for o in subsampling_subsampling_overlaps],\n",
    "                          \"q_diag\"   => [o.Q[1, 1] for o in subsampling_subsampling_overlaps],\n",
    "                          \"q_off_diag\"   => [o.Q[1, 2] for o in subsampling_subsampling_overlaps],\n",
    "                          \"v\"   => [o.V[1] for o in subsampling_subsampling_overlaps],\n",
    "                          \"mhat\"=> [o.m[1] for o in subsampling_subsampling_hat_overlaps],\n",
    "                          \"qhat_diag\"=> [o.Q[1, 1] for o in subsampling_subsampling_hat_overlaps],\n",
    "                          \"qhat_off_diag\"=> [o.Q[1, 2] for o in subsampling_subsampling_hat_overlaps],\n",
    "                          \"vhat\"=> [o.V[1] for o in subsampling_subsampling_hat_overlaps],\n",
    "                          )\n",
    "\n",
    "open(filename, \"w\") do f\n",
    "    write(f, JSON.json(dict_to_save))\n",
    "end"
   ]
  },
  {
   "cell_type": "code",
   "execution_count": 14,
   "metadata": {},
   "outputs": [],
   "source": [
    "subsampling_full_overlaps = []\n",
    "subsampling_full_hat_overlaps = []\n",
    "\n",
    "for alpha in alpha_range\n",
    "    problem = Ridge(α = alpha, Δ = noise_variance, ρ = 1.0, λ = lambda)\n",
    "    result = BootstrapAsymptotics.state_evolution(problem, Subsampling(r = proba),FullResampling(), rtol=0.0, max_iteration=100_000)\n",
    "    push!(subsampling_full_overlaps, result[1])\n",
    "    push!(subsampling_full_hat_overlaps, result[2])\n",
    "end"
   ]
  },
  {
   "cell_type": "code",
   "execution_count": 15,
   "metadata": {},
   "outputs": [
    {
     "data": {
      "text/plain": [
       "8640"
      ]
     },
     "metadata": {},
     "output_type": "display_data"
    }
   ],
   "source": [
    "filename::String = \"data/ridge/ridge_subsampling_full_overlaps_lambda=$(lambda)_p=$(proba).json\"\n",
    "\n",
    "\n",
    "dict_to_save::Dict = Dict(\"alpha\" => alpha_range,\n",
    "                          \"proba\" => proba,\n",
    "                          \"m\"   => [o.m[1] for o in subsampling_full_overlaps],\n",
    "                          \"q_diag\"   => [o.Q[1, 1] for o in subsampling_full_overlaps],\n",
    "                          \"q_off_diag\"   => [o.Q[1, 2] for o in subsampling_full_overlaps],\n",
    "                          \"v\"   => [o.V[1] for o in subsampling_full_overlaps],\n",
    "                          \"mhat\"=> [o.m[1] for o in subsampling_full_hat_overlaps],\n",
    "                          \"qhat_diag\"=> [o.Q[1, 1] for o in subsampling_full_hat_overlaps],\n",
    "                          \"qhat_off_diag\"=> [o.Q[1, 2] for o in subsampling_full_hat_overlaps],\n",
    "                          \"vhat\"=> [o.V[1] for o in subsampling_full_hat_overlaps],\n",
    "                          )\n",
    "\n",
    "open(filename, \"w\") do f\n",
    "    write(f, JSON.json(dict_to_save))\n",
    "end"
   ]
  },
  {
   "cell_type": "markdown",
   "metadata": {},
   "source": [
    "--- \n",
    "\n",
    "# Bayes-optimal"
   ]
  },
  {
   "cell_type": "code",
   "execution_count": 10,
   "metadata": {},
   "outputs": [],
   "source": [
    "bayes_optimal_overlaps = []\n",
    "bayes_optimal_hat_overlaps = []\n",
    "\n",
    "for alpha in alpha_range\n",
    "    # for ridge, b.o is at lambda optimal = noise_variance here\n",
    "    problem = Ridge(α = alpha, Δ = noise_variance, ρ = 1.0, λ = noise_variance)\n",
    "    result = BootstrapAsymptotics.state_evolution(problem, FullResampling(), FullResampling(), rtol=rtol, max_iteration=max_iteration)\n",
    "    push!(bayes_optimal_overlaps, result[1])\n",
    "    push!(bayes_optimal_hat_overlaps, result[2])\n",
    "end"
   ]
  },
  {
   "cell_type": "code",
   "execution_count": 11,
   "metadata": {},
   "outputs": [
    {
     "data": {
      "text/plain": [
       "3849"
      ]
     },
     "metadata": {},
     "output_type": "display_data"
    }
   ],
   "source": [
    "filename::String = \"data/ridge/ridge_bayes_optimal_overlaps.json\"\n",
    "\n",
    "\n",
    "dict_to_save::Dict = Dict(\"alpha\" => alpha_range,\n",
    "                          \"m\"   => [o.m[1] for o in bayes_optimal_overlaps],\n",
    "                          \"q\"   => [o.Q[1, 1] for o in bayes_optimal_overlaps],\n",
    "                          \"v\"   => [o.V[1] for o in bayes_optimal_overlaps],\n",
    "                          )\n",
    "\n",
    "open(filename, \"w\") do f\n",
    "    write(f, JSON.json(dict_to_save))\n",
    "end"
   ]
  }
 ],
 "metadata": {
  "kernelspec": {
   "display_name": "Julia 1.10.0",
   "language": "julia",
   "name": "julia-1.10"
  },
  "language_info": {
   "file_extension": ".jl",
   "mimetype": "application/julia",
   "name": "julia",
   "version": "1.10.0"
  }
 },
 "nbformat": 4,
 "nbformat_minor": 2
}
